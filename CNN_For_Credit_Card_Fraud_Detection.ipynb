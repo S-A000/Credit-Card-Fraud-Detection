{
 "cells": [
  {
   "cell_type": "code",
   "execution_count": 1,
   "metadata": {
    "colab": {
     "base_uri": "https://localhost:8080/"
    },
    "id": "RUPm1ou4Rmk_",
    "outputId": "c824cea5-ba72-44b1-8d98-7b01510d3871"
   },
   "outputs": [
    {
     "name": "stdout",
     "output_type": "stream",
     "text": [
      "Requirement already satisfied: tensorflow in c:\\users\\acer\\appdata\\local\\programs\\python\\python312\\lib\\site-packages (2.16.1)\n",
      "Requirement already satisfied: tensorflow-intel==2.16.1 in c:\\users\\acer\\appdata\\local\\programs\\python\\python312\\lib\\site-packages (from tensorflow) (2.16.1)\n",
      "Requirement already satisfied: absl-py>=1.0.0 in c:\\users\\acer\\appdata\\local\\programs\\python\\python312\\lib\\site-packages (from tensorflow-intel==2.16.1->tensorflow) (2.1.0)\n",
      "Requirement already satisfied: astunparse>=1.6.0 in c:\\users\\acer\\appdata\\local\\programs\\python\\python312\\lib\\site-packages (from tensorflow-intel==2.16.1->tensorflow) (1.6.3)\n",
      "Requirement already satisfied: flatbuffers>=23.5.26 in c:\\users\\acer\\appdata\\local\\programs\\python\\python312\\lib\\site-packages (from tensorflow-intel==2.16.1->tensorflow) (24.3.25)\n",
      "Requirement already satisfied: gast!=0.5.0,!=0.5.1,!=0.5.2,>=0.2.1 in c:\\users\\acer\\appdata\\local\\programs\\python\\python312\\lib\\site-packages (from tensorflow-intel==2.16.1->tensorflow) (0.6.0)\n",
      "Requirement already satisfied: google-pasta>=0.1.1 in c:\\users\\acer\\appdata\\local\\programs\\python\\python312\\lib\\site-packages (from tensorflow-intel==2.16.1->tensorflow) (0.2.0)\n",
      "Requirement already satisfied: h5py>=3.10.0 in c:\\users\\acer\\appdata\\local\\programs\\python\\python312\\lib\\site-packages (from tensorflow-intel==2.16.1->tensorflow) (3.11.0)\n",
      "Requirement already satisfied: libclang>=13.0.0 in c:\\users\\acer\\appdata\\local\\programs\\python\\python312\\lib\\site-packages (from tensorflow-intel==2.16.1->tensorflow) (18.1.1)\n",
      "Requirement already satisfied: ml-dtypes~=0.3.1 in c:\\users\\acer\\appdata\\local\\programs\\python\\python312\\lib\\site-packages (from tensorflow-intel==2.16.1->tensorflow) (0.3.2)\n",
      "Requirement already satisfied: opt-einsum>=2.3.2 in c:\\users\\acer\\appdata\\local\\programs\\python\\python312\\lib\\site-packages (from tensorflow-intel==2.16.1->tensorflow) (3.3.0)\n",
      "Requirement already satisfied: packaging in c:\\users\\acer\\appdata\\local\\programs\\python\\python312\\lib\\site-packages (from tensorflow-intel==2.16.1->tensorflow) (24.1)\n",
      "Requirement already satisfied: protobuf!=4.21.0,!=4.21.1,!=4.21.2,!=4.21.3,!=4.21.4,!=4.21.5,<5.0.0dev,>=3.20.3 in c:\\users\\acer\\appdata\\local\\programs\\python\\python312\\lib\\site-packages (from tensorflow-intel==2.16.1->tensorflow) (4.25.3)\n",
      "Requirement already satisfied: requests<3,>=2.21.0 in c:\\users\\acer\\appdata\\local\\programs\\python\\python312\\lib\\site-packages (from tensorflow-intel==2.16.1->tensorflow) (2.32.3)\n",
      "Requirement already satisfied: setuptools in c:\\users\\acer\\appdata\\local\\programs\\python\\python312\\lib\\site-packages (from tensorflow-intel==2.16.1->tensorflow) (70.0.0)\n",
      "Requirement already satisfied: six>=1.12.0 in c:\\users\\acer\\appdata\\local\\programs\\python\\python312\\lib\\site-packages (from tensorflow-intel==2.16.1->tensorflow) (1.16.0)\n",
      "Requirement already satisfied: termcolor>=1.1.0 in c:\\users\\acer\\appdata\\local\\programs\\python\\python312\\lib\\site-packages (from tensorflow-intel==2.16.1->tensorflow) (2.4.0)\n",
      "Requirement already satisfied: typing-extensions>=3.6.6 in c:\\users\\acer\\appdata\\local\\programs\\python\\python312\\lib\\site-packages (from tensorflow-intel==2.16.1->tensorflow) (4.12.2)\n",
      "Requirement already satisfied: wrapt>=1.11.0 in c:\\users\\acer\\appdata\\local\\programs\\python\\python312\\lib\\site-packages (from tensorflow-intel==2.16.1->tensorflow) (1.16.0)\n",
      "Requirement already satisfied: grpcio<2.0,>=1.24.3 in c:\\users\\acer\\appdata\\local\\programs\\python\\python312\\lib\\site-packages (from tensorflow-intel==2.16.1->tensorflow) (1.64.1)\n",
      "Requirement already satisfied: tensorboard<2.17,>=2.16 in c:\\users\\acer\\appdata\\local\\programs\\python\\python312\\lib\\site-packages (from tensorflow-intel==2.16.1->tensorflow) (2.16.2)\n",
      "Requirement already satisfied: keras>=3.0.0 in c:\\users\\acer\\appdata\\local\\programs\\python\\python312\\lib\\site-packages (from tensorflow-intel==2.16.1->tensorflow) (3.4.1)\n",
      "Requirement already satisfied: numpy<2.0.0,>=1.26.0 in c:\\users\\acer\\appdata\\local\\programs\\python\\python312\\lib\\site-packages (from tensorflow-intel==2.16.1->tensorflow) (1.26.4)\n",
      "Requirement already satisfied: wheel<1.0,>=0.23.0 in c:\\users\\acer\\appdata\\local\\programs\\python\\python312\\lib\\site-packages (from astunparse>=1.6.0->tensorflow-intel==2.16.1->tensorflow) (0.43.0)\n",
      "Requirement already satisfied: rich in c:\\users\\acer\\appdata\\local\\programs\\python\\python312\\lib\\site-packages (from keras>=3.0.0->tensorflow-intel==2.16.1->tensorflow) (13.7.1)\n",
      "Requirement already satisfied: namex in c:\\users\\acer\\appdata\\local\\programs\\python\\python312\\lib\\site-packages (from keras>=3.0.0->tensorflow-intel==2.16.1->tensorflow) (0.0.8)\n",
      "Requirement already satisfied: optree in c:\\users\\acer\\appdata\\local\\programs\\python\\python312\\lib\\site-packages (from keras>=3.0.0->tensorflow-intel==2.16.1->tensorflow) (0.11.0)\n",
      "Requirement already satisfied: charset-normalizer<4,>=2 in c:\\users\\acer\\appdata\\local\\programs\\python\\python312\\lib\\site-packages (from requests<3,>=2.21.0->tensorflow-intel==2.16.1->tensorflow) (3.3.2)\n",
      "Requirement already satisfied: idna<4,>=2.5 in c:\\users\\acer\\appdata\\local\\programs\\python\\python312\\lib\\site-packages (from requests<3,>=2.21.0->tensorflow-intel==2.16.1->tensorflow) (3.7)\n",
      "Requirement already satisfied: urllib3<3,>=1.21.1 in c:\\users\\acer\\appdata\\local\\programs\\python\\python312\\lib\\site-packages (from requests<3,>=2.21.0->tensorflow-intel==2.16.1->tensorflow) (2.2.2)\n",
      "Requirement already satisfied: certifi>=2017.4.17 in c:\\users\\acer\\appdata\\local\\programs\\python\\python312\\lib\\site-packages (from requests<3,>=2.21.0->tensorflow-intel==2.16.1->tensorflow) (2024.6.2)\n",
      "Requirement already satisfied: markdown>=2.6.8 in c:\\users\\acer\\appdata\\local\\programs\\python\\python312\\lib\\site-packages (from tensorboard<2.17,>=2.16->tensorflow-intel==2.16.1->tensorflow) (3.6)\n",
      "Requirement already satisfied: tensorboard-data-server<0.8.0,>=0.7.0 in c:\\users\\acer\\appdata\\local\\programs\\python\\python312\\lib\\site-packages (from tensorboard<2.17,>=2.16->tensorflow-intel==2.16.1->tensorflow) (0.7.2)\n",
      "Requirement already satisfied: werkzeug>=1.0.1 in c:\\users\\acer\\appdata\\local\\programs\\python\\python312\\lib\\site-packages (from tensorboard<2.17,>=2.16->tensorflow-intel==2.16.1->tensorflow) (3.0.3)\n",
      "Requirement already satisfied: MarkupSafe>=2.1.1 in c:\\users\\acer\\appdata\\local\\programs\\python\\python312\\lib\\site-packages (from werkzeug>=1.0.1->tensorboard<2.17,>=2.16->tensorflow-intel==2.16.1->tensorflow) (2.1.5)\n",
      "Requirement already satisfied: markdown-it-py>=2.2.0 in c:\\users\\acer\\appdata\\local\\programs\\python\\python312\\lib\\site-packages (from rich->keras>=3.0.0->tensorflow-intel==2.16.1->tensorflow) (3.0.0)\n",
      "Requirement already satisfied: pygments<3.0.0,>=2.13.0 in c:\\users\\acer\\appdata\\local\\programs\\python\\python312\\lib\\site-packages (from rich->keras>=3.0.0->tensorflow-intel==2.16.1->tensorflow) (2.18.0)\n",
      "Requirement already satisfied: mdurl~=0.1 in c:\\users\\acer\\appdata\\local\\programs\\python\\python312\\lib\\site-packages (from markdown-it-py>=2.2.0->rich->keras>=3.0.0->tensorflow-intel==2.16.1->tensorflow) (0.1.2)\n"
     ]
    }
   ],
   "source": [
    "!pip install tensorflow"
   ]
  },
  {
   "cell_type": "code",
   "execution_count": 2,
   "metadata": {
    "id": "yS9KuKKeSrP-"
   },
   "outputs": [],
   "source": [
    "import tensorflow as tf"
   ]
  },
  {
   "cell_type": "code",
   "execution_count": 3,
   "metadata": {
    "colab": {
     "base_uri": "https://localhost:8080/"
    },
    "id": "QTEkjKJGSrN_",
    "outputId": "e7965184-c828-4d10-ae0c-e83a69fa656b"
   },
   "outputs": [
    {
     "name": "stdout",
     "output_type": "stream",
     "text": [
      "2.16.1\n"
     ]
    }
   ],
   "source": [
    "print(tf.__version__)"
   ]
  },
  {
   "cell_type": "code",
   "execution_count": 4,
   "metadata": {
    "id": "jK3QUSuZSrLo"
   },
   "outputs": [],
   "source": [
    "import numpy as np\n",
    "import pandas as pd\n",
    "import matplotlib.pyplot as plt"
   ]
  },
  {
   "cell_type": "code",
   "execution_count": 5,
   "metadata": {
    "id": "E_JIKTt1Vq2D"
   },
   "outputs": [],
   "source": [
    "dataset_1 = pd.read_csv('creditcard.csv')"
   ]
  },
  {
   "cell_type": "code",
   "execution_count": 6,
   "metadata": {
    "colab": {
     "base_uri": "https://localhost:8080/",
     "height": 256
    },
    "id": "hnV-4qMqVj42",
    "outputId": "8fd7ed8c-a699-4512-f82b-9ac08fb2259a"
   },
   "outputs": [
    {
     "data": {
      "text/html": [
       "<div>\n",
       "<style scoped>\n",
       "    .dataframe tbody tr th:only-of-type {\n",
       "        vertical-align: middle;\n",
       "    }\n",
       "\n",
       "    .dataframe tbody tr th {\n",
       "        vertical-align: top;\n",
       "    }\n",
       "\n",
       "    .dataframe thead th {\n",
       "        text-align: right;\n",
       "    }\n",
       "</style>\n",
       "<table border=\"1\" class=\"dataframe\">\n",
       "  <thead>\n",
       "    <tr style=\"text-align: right;\">\n",
       "      <th></th>\n",
       "      <th>Time</th>\n",
       "      <th>V1</th>\n",
       "      <th>V2</th>\n",
       "      <th>V3</th>\n",
       "      <th>V4</th>\n",
       "      <th>V5</th>\n",
       "      <th>V6</th>\n",
       "      <th>V7</th>\n",
       "      <th>V8</th>\n",
       "      <th>V9</th>\n",
       "      <th>...</th>\n",
       "      <th>V21</th>\n",
       "      <th>V22</th>\n",
       "      <th>V23</th>\n",
       "      <th>V24</th>\n",
       "      <th>V25</th>\n",
       "      <th>V26</th>\n",
       "      <th>V27</th>\n",
       "      <th>V28</th>\n",
       "      <th>Amount</th>\n",
       "      <th>Class</th>\n",
       "    </tr>\n",
       "  </thead>\n",
       "  <tbody>\n",
       "    <tr>\n",
       "      <th>0</th>\n",
       "      <td>0.0</td>\n",
       "      <td>-1.359807</td>\n",
       "      <td>-0.072781</td>\n",
       "      <td>2.536347</td>\n",
       "      <td>1.378155</td>\n",
       "      <td>-0.338321</td>\n",
       "      <td>0.462388</td>\n",
       "      <td>0.239599</td>\n",
       "      <td>0.098698</td>\n",
       "      <td>0.363787</td>\n",
       "      <td>...</td>\n",
       "      <td>-0.018307</td>\n",
       "      <td>0.277838</td>\n",
       "      <td>-0.110474</td>\n",
       "      <td>0.066928</td>\n",
       "      <td>0.128539</td>\n",
       "      <td>-0.189115</td>\n",
       "      <td>0.133558</td>\n",
       "      <td>-0.021053</td>\n",
       "      <td>149.62</td>\n",
       "      <td>0</td>\n",
       "    </tr>\n",
       "    <tr>\n",
       "      <th>1</th>\n",
       "      <td>0.0</td>\n",
       "      <td>1.191857</td>\n",
       "      <td>0.266151</td>\n",
       "      <td>0.166480</td>\n",
       "      <td>0.448154</td>\n",
       "      <td>0.060018</td>\n",
       "      <td>-0.082361</td>\n",
       "      <td>-0.078803</td>\n",
       "      <td>0.085102</td>\n",
       "      <td>-0.255425</td>\n",
       "      <td>...</td>\n",
       "      <td>-0.225775</td>\n",
       "      <td>-0.638672</td>\n",
       "      <td>0.101288</td>\n",
       "      <td>-0.339846</td>\n",
       "      <td>0.167170</td>\n",
       "      <td>0.125895</td>\n",
       "      <td>-0.008983</td>\n",
       "      <td>0.014724</td>\n",
       "      <td>2.69</td>\n",
       "      <td>0</td>\n",
       "    </tr>\n",
       "    <tr>\n",
       "      <th>2</th>\n",
       "      <td>1.0</td>\n",
       "      <td>-1.358354</td>\n",
       "      <td>-1.340163</td>\n",
       "      <td>1.773209</td>\n",
       "      <td>0.379780</td>\n",
       "      <td>-0.503198</td>\n",
       "      <td>1.800499</td>\n",
       "      <td>0.791461</td>\n",
       "      <td>0.247676</td>\n",
       "      <td>-1.514654</td>\n",
       "      <td>...</td>\n",
       "      <td>0.247998</td>\n",
       "      <td>0.771679</td>\n",
       "      <td>0.909412</td>\n",
       "      <td>-0.689281</td>\n",
       "      <td>-0.327642</td>\n",
       "      <td>-0.139097</td>\n",
       "      <td>-0.055353</td>\n",
       "      <td>-0.059752</td>\n",
       "      <td>378.66</td>\n",
       "      <td>0</td>\n",
       "    </tr>\n",
       "    <tr>\n",
       "      <th>3</th>\n",
       "      <td>1.0</td>\n",
       "      <td>-0.966272</td>\n",
       "      <td>-0.185226</td>\n",
       "      <td>1.792993</td>\n",
       "      <td>-0.863291</td>\n",
       "      <td>-0.010309</td>\n",
       "      <td>1.247203</td>\n",
       "      <td>0.237609</td>\n",
       "      <td>0.377436</td>\n",
       "      <td>-1.387024</td>\n",
       "      <td>...</td>\n",
       "      <td>-0.108300</td>\n",
       "      <td>0.005274</td>\n",
       "      <td>-0.190321</td>\n",
       "      <td>-1.175575</td>\n",
       "      <td>0.647376</td>\n",
       "      <td>-0.221929</td>\n",
       "      <td>0.062723</td>\n",
       "      <td>0.061458</td>\n",
       "      <td>123.50</td>\n",
       "      <td>0</td>\n",
       "    </tr>\n",
       "    <tr>\n",
       "      <th>4</th>\n",
       "      <td>2.0</td>\n",
       "      <td>-1.158233</td>\n",
       "      <td>0.877737</td>\n",
       "      <td>1.548718</td>\n",
       "      <td>0.403034</td>\n",
       "      <td>-0.407193</td>\n",
       "      <td>0.095921</td>\n",
       "      <td>0.592941</td>\n",
       "      <td>-0.270533</td>\n",
       "      <td>0.817739</td>\n",
       "      <td>...</td>\n",
       "      <td>-0.009431</td>\n",
       "      <td>0.798278</td>\n",
       "      <td>-0.137458</td>\n",
       "      <td>0.141267</td>\n",
       "      <td>-0.206010</td>\n",
       "      <td>0.502292</td>\n",
       "      <td>0.219422</td>\n",
       "      <td>0.215153</td>\n",
       "      <td>69.99</td>\n",
       "      <td>0</td>\n",
       "    </tr>\n",
       "  </tbody>\n",
       "</table>\n",
       "<p>5 rows × 31 columns</p>\n",
       "</div>"
      ],
      "text/plain": [
       "   Time        V1        V2        V3        V4        V5        V6        V7  \\\n",
       "0   0.0 -1.359807 -0.072781  2.536347  1.378155 -0.338321  0.462388  0.239599   \n",
       "1   0.0  1.191857  0.266151  0.166480  0.448154  0.060018 -0.082361 -0.078803   \n",
       "2   1.0 -1.358354 -1.340163  1.773209  0.379780 -0.503198  1.800499  0.791461   \n",
       "3   1.0 -0.966272 -0.185226  1.792993 -0.863291 -0.010309  1.247203  0.237609   \n",
       "4   2.0 -1.158233  0.877737  1.548718  0.403034 -0.407193  0.095921  0.592941   \n",
       "\n",
       "         V8        V9  ...       V21       V22       V23       V24       V25  \\\n",
       "0  0.098698  0.363787  ... -0.018307  0.277838 -0.110474  0.066928  0.128539   \n",
       "1  0.085102 -0.255425  ... -0.225775 -0.638672  0.101288 -0.339846  0.167170   \n",
       "2  0.247676 -1.514654  ...  0.247998  0.771679  0.909412 -0.689281 -0.327642   \n",
       "3  0.377436 -1.387024  ... -0.108300  0.005274 -0.190321 -1.175575  0.647376   \n",
       "4 -0.270533  0.817739  ... -0.009431  0.798278 -0.137458  0.141267 -0.206010   \n",
       "\n",
       "        V26       V27       V28  Amount  Class  \n",
       "0 -0.189115  0.133558 -0.021053  149.62      0  \n",
       "1  0.125895 -0.008983  0.014724    2.69      0  \n",
       "2 -0.139097 -0.055353 -0.059752  378.66      0  \n",
       "3 -0.221929  0.062723  0.061458  123.50      0  \n",
       "4  0.502292  0.219422  0.215153   69.99      0  \n",
       "\n",
       "[5 rows x 31 columns]"
      ]
     },
     "execution_count": 6,
     "metadata": {},
     "output_type": "execute_result"
    }
   ],
   "source": [
    "dataset_1.head()\n"
   ]
  },
  {
   "cell_type": "code",
   "execution_count": 7,
   "metadata": {
    "colab": {
     "base_uri": "https://localhost:8080/"
    },
    "id": "aQTIZRIUXDuf",
    "outputId": "fb406f2f-579e-46d4-c32b-f1a3e74b282b"
   },
   "outputs": [
    {
     "data": {
      "text/plain": [
       "(284807, 31)"
      ]
     },
     "execution_count": 7,
     "metadata": {},
     "output_type": "execute_result"
    }
   ],
   "source": [
    "dataset_1.shape"
   ]
  },
  {
   "cell_type": "code",
   "execution_count": 8,
   "metadata": {
    "colab": {
     "base_uri": "https://localhost:8080/",
     "height": 1000
    },
    "id": "tnt8lFB0XDrQ",
    "outputId": "14d878c6-39d6-4245-b6ae-7472ef62bd6f"
   },
   "outputs": [
    {
     "data": {
      "text/plain": [
       "Time      0\n",
       "V1        0\n",
       "V2        0\n",
       "V3        0\n",
       "V4        0\n",
       "V5        0\n",
       "V6        0\n",
       "V7        0\n",
       "V8        0\n",
       "V9        0\n",
       "V10       0\n",
       "V11       0\n",
       "V12       0\n",
       "V13       0\n",
       "V14       0\n",
       "V15       0\n",
       "V16       0\n",
       "V17       0\n",
       "V18       0\n",
       "V19       0\n",
       "V20       0\n",
       "V21       0\n",
       "V22       0\n",
       "V23       0\n",
       "V24       0\n",
       "V25       0\n",
       "V26       0\n",
       "V27       0\n",
       "V28       0\n",
       "Amount    0\n",
       "Class     0\n",
       "dtype: int64"
      ]
     },
     "execution_count": 8,
     "metadata": {},
     "output_type": "execute_result"
    }
   ],
   "source": [
    "dataset_1.isnull().sum()"
   ]
  },
  {
   "cell_type": "code",
   "execution_count": 9,
   "metadata": {
    "colab": {
     "base_uri": "https://localhost:8080/"
    },
    "id": "AhFLaaGvXDoj",
    "outputId": "85bce1fd-5ec5-4027-972e-af1846135140"
   },
   "outputs": [
    {
     "name": "stdout",
     "output_type": "stream",
     "text": [
      "<class 'pandas.core.frame.DataFrame'>\n",
      "RangeIndex: 284807 entries, 0 to 284806\n",
      "Data columns (total 31 columns):\n",
      " #   Column  Non-Null Count   Dtype  \n",
      "---  ------  --------------   -----  \n",
      " 0   Time    284807 non-null  float64\n",
      " 1   V1      284807 non-null  float64\n",
      " 2   V2      284807 non-null  float64\n",
      " 3   V3      284807 non-null  float64\n",
      " 4   V4      284807 non-null  float64\n",
      " 5   V5      284807 non-null  float64\n",
      " 6   V6      284807 non-null  float64\n",
      " 7   V7      284807 non-null  float64\n",
      " 8   V8      284807 non-null  float64\n",
      " 9   V9      284807 non-null  float64\n",
      " 10  V10     284807 non-null  float64\n",
      " 11  V11     284807 non-null  float64\n",
      " 12  V12     284807 non-null  float64\n",
      " 13  V13     284807 non-null  float64\n",
      " 14  V14     284807 non-null  float64\n",
      " 15  V15     284807 non-null  float64\n",
      " 16  V16     284807 non-null  float64\n",
      " 17  V17     284807 non-null  float64\n",
      " 18  V18     284807 non-null  float64\n",
      " 19  V19     284807 non-null  float64\n",
      " 20  V20     284807 non-null  float64\n",
      " 21  V21     284807 non-null  float64\n",
      " 22  V22     284807 non-null  float64\n",
      " 23  V23     284807 non-null  float64\n",
      " 24  V24     284807 non-null  float64\n",
      " 25  V25     284807 non-null  float64\n",
      " 26  V26     284807 non-null  float64\n",
      " 27  V27     284807 non-null  float64\n",
      " 28  V28     284807 non-null  float64\n",
      " 29  Amount  284807 non-null  float64\n",
      " 30  Class   284807 non-null  int64  \n",
      "dtypes: float64(30), int64(1)\n",
      "memory usage: 67.4 MB\n"
     ]
    }
   ],
   "source": [
    "dataset_1.info()"
   ]
  },
  {
   "cell_type": "code",
   "execution_count": 10,
   "metadata": {
    "colab": {
     "base_uri": "https://localhost:8080/",
     "height": 178
    },
    "id": "Xa-anUWbXDl9",
    "outputId": "afe35771-6a9c-4696-8efa-6945a61b3666"
   },
   "outputs": [
    {
     "data": {
      "text/plain": [
       "Class\n",
       "0    284315\n",
       "1       492\n",
       "Name: count, dtype: int64"
      ]
     },
     "execution_count": 10,
     "metadata": {},
     "output_type": "execute_result"
    }
   ],
   "source": [
    "dataset_1['Class'].value_counts()"
   ]
  },
  {
   "cell_type": "code",
   "execution_count": 11,
   "metadata": {
    "id": "XW5lRpFLCAiR"
   },
   "outputs": [],
   "source": [
    "fraud = dataset_1[dataset_1['Class']==1]\n",
    "non_fraud = dataset_1[dataset_1['Class']==0]"
   ]
  },
  {
   "cell_type": "code",
   "execution_count": 12,
   "metadata": {
    "colab": {
     "base_uri": "https://localhost:8080/"
    },
    "id": "wARKhhAACAfU",
    "outputId": "ffcf6f06-acc4-407a-df0e-9a4f7105d685"
   },
   "outputs": [
    {
     "data": {
      "text/plain": [
       "((492, 31), (284315, 31))"
      ]
     },
     "execution_count": 12,
     "metadata": {},
     "output_type": "execute_result"
    }
   ],
   "source": [
    "fraud.shape, non_fraud.shape"
   ]
  },
  {
   "cell_type": "code",
   "execution_count": 13,
   "metadata": {
    "id": "GaSdPW1LC7Gj"
   },
   "outputs": [],
   "source": [
    "non_fraud_t=non_fraud.sample(n=492)"
   ]
  },
  {
   "cell_type": "code",
   "execution_count": 14,
   "metadata": {
    "colab": {
     "base_uri": "https://localhost:8080/"
    },
    "id": "sSfkLjgCC6-q",
    "outputId": "e0e7f860-d566-4ecc-a806-f29f7e3f6bc5"
   },
   "outputs": [
    {
     "data": {
      "text/plain": [
       "(492, 31)"
      ]
     },
     "execution_count": 14,
     "metadata": {},
     "output_type": "execute_result"
    }
   ],
   "source": [
    "non_fraud_t.shape"
   ]
  },
  {
   "cell_type": "code",
   "execution_count": 15,
   "metadata": {
    "id": "LYYBwvpPDh9f"
   },
   "outputs": [],
   "source": [
    "dataset = pd.concat([fraud,non_fraud_t],axis=0)"
   ]
  },
  {
   "cell_type": "code",
   "execution_count": 16,
   "metadata": {
    "colab": {
     "base_uri": "https://localhost:8080/"
    },
    "id": "FBZB7kEfDh64",
    "outputId": "45228671-0e2f-433b-f6b1-1d05079f9895"
   },
   "outputs": [
    {
     "name": "stdout",
     "output_type": "stream",
     "text": [
      "            Time        V1        V2        V3        V4        V5        V6  \\\n",
      "541        406.0 -2.312227  1.951992 -1.609851  3.997906 -0.522188 -1.426545   \n",
      "623        472.0 -3.043541 -3.157307  1.088463  2.288644  1.359805 -1.064823   \n",
      "4920      4462.0 -2.303350  1.759247 -0.359745  2.330243 -0.821628 -0.075788   \n",
      "6108      6986.0 -4.397974  1.358367 -2.592844  2.679787 -1.128131 -1.706536   \n",
      "6329      7519.0  1.234235  3.019740 -4.304597  4.732795  3.624201 -1.357746   \n",
      "...          ...       ...       ...       ...       ...       ...       ...   \n",
      "174302  121857.0 -0.475757  0.810558 -2.713547 -2.305853  0.291933 -1.671343   \n",
      "27375    34527.0  1.125440 -0.472936 -0.375937  0.616702  1.595139  4.395781   \n",
      "264760  161583.0 -0.817585  0.421431 -0.905716 -0.854610  2.091800  1.102133   \n",
      "189627  128490.0 -0.549625  1.364194 -0.771549 -0.565631  0.770298 -0.616786   \n",
      "125363   77636.0 -0.737810  0.208040  1.166766 -1.236548 -1.074573 -0.450401   \n",
      "\n",
      "              V7        V8        V9  ...       V21       V22       V23  \\\n",
      "541    -2.537387  1.391657 -2.770089  ...  0.517232 -0.035049 -0.465211   \n",
      "623     0.325574 -0.067794 -0.270953  ...  0.661696  0.435477  1.375966   \n",
      "4920    0.562320 -0.399147 -0.238253  ... -0.294166 -0.932391  0.172726   \n",
      "6108   -3.496197 -0.248778 -0.247768  ...  0.573574  0.176968 -0.436207   \n",
      "6329    1.713445 -0.496358 -1.282858  ... -0.379068 -0.704181 -0.656805   \n",
      "...          ...       ...       ...  ...       ...       ...       ...   \n",
      "174302  0.451181  0.503398 -1.441581  ...  0.734121  2.005910 -0.050364   \n",
      "27375  -1.008012  1.144630  1.137158  ... -0.481154 -1.162346 -0.003559   \n",
      "264760  0.531189  0.358641 -0.028693  ... -0.290204 -0.430203  0.532755   \n",
      "189627  0.516702 -0.708076  0.048856  ...  0.429835 -1.054376  0.225108   \n",
      "125363 -0.111930  0.352861 -1.450712  ... -0.099758 -0.090573  0.006259   \n",
      "\n",
      "             V24       V25       V26       V27       V28  Amount  Class  \n",
      "541     0.320198  0.044519  0.177840  0.261145 -0.143276    0.00      1  \n",
      "623    -0.293803  0.279798 -0.145362 -0.252773  0.035764  529.00      1  \n",
      "4920   -0.087330 -0.156114 -0.542628  0.039566 -0.153029  239.93      1  \n",
      "6108   -0.053502  0.252405 -0.657488 -0.827136  0.849573   59.00      1  \n",
      "6329   -1.632653  1.488901  0.566797 -0.010016  0.146793    1.00      1  \n",
      "...          ...       ...       ...       ...       ...     ...    ...  \n",
      "174302 -0.429077 -0.953666 -0.105538  0.370679  0.266444   10.00      0  \n",
      "27375   0.996640  0.644113 -0.526292  0.071282  0.029832   37.99      0  \n",
      "264760 -1.048393 -0.495544  0.210496 -0.045033  0.050065    1.29      0  \n",
      "189627  0.491659 -0.419450  0.086674 -0.151195 -0.203403    8.99      0  \n",
      "125363 -0.089000 -0.205820  1.115244 -0.095773  0.041535   77.98      0  \n",
      "\n",
      "[984 rows x 31 columns]\n"
     ]
    }
   ],
   "source": [
    "print(dataset)"
   ]
  },
  {
   "cell_type": "code",
   "execution_count": 17,
   "metadata": {
    "colab": {
     "base_uri": "https://localhost:8080/",
     "height": 178
    },
    "id": "F2ig3gk6Dh4C",
    "outputId": "3d0fd5ab-d8f4-4ad5-af13-70a4b3376c59"
   },
   "outputs": [
    {
     "data": {
      "text/plain": [
       "Class\n",
       "1    492\n",
       "0    492\n",
       "Name: count, dtype: int64"
      ]
     },
     "execution_count": 17,
     "metadata": {},
     "output_type": "execute_result"
    }
   ],
   "source": [
    "dataset['Class'].value_counts()"
   ]
  },
  {
   "cell_type": "code",
   "execution_count": 18,
   "metadata": {
    "id": "gEtPzegVDh1V"
   },
   "outputs": [],
   "source": [
    "x = dataset.drop(columns='Class',axis=1)\n",
    "y = dataset['Class']"
   ]
  },
  {
   "cell_type": "code",
   "execution_count": 19,
   "metadata": {
    "colab": {
     "base_uri": "https://localhost:8080/"
    },
    "id": "edwYSdjxDhug",
    "outputId": "ea4c94e4-2f24-448a-e1dd-c3be7f4be7a2"
   },
   "outputs": [
    {
     "data": {
      "text/plain": [
       "((984, 30), (984,))"
      ]
     },
     "execution_count": 19,
     "metadata": {},
     "output_type": "execute_result"
    }
   ],
   "source": [
    "x.shape, y.shape"
   ]
  },
  {
   "cell_type": "code",
   "execution_count": 20,
   "metadata": {
    "id": "djb8NhkSDhgo"
   },
   "outputs": [],
   "source": [
    "from sklearn.model_selection import train_test_split"
   ]
  },
  {
   "cell_type": "code",
   "execution_count": 21,
   "metadata": {
    "id": "7sw7fZTcFyaD"
   },
   "outputs": [],
   "source": [
    "x_train, x_test, y_train, y_test = train_test_split(x,y,test_size=0.2,random_state=2)"
   ]
  },
  {
   "cell_type": "code",
   "execution_count": 22,
   "metadata": {
    "colab": {
     "base_uri": "https://localhost:8080/"
    },
    "id": "U6BAn3_WFyQb",
    "outputId": "e00179d4-7492-48d4-fe12-1f6e63f3d009"
   },
   "outputs": [
    {
     "data": {
      "text/plain": [
       "((787, 30), (197, 30))"
      ]
     },
     "execution_count": 22,
     "metadata": {},
     "output_type": "execute_result"
    }
   ],
   "source": [
    " x_train.shape, x_test.shape"
   ]
  },
  {
   "cell_type": "code",
   "execution_count": 23,
   "metadata": {
    "id": "xyVIQFfmGcIX"
   },
   "outputs": [],
   "source": [
    "from sklearn.preprocessing import StandardScaler\n",
    "sc = StandardScaler()\n",
    "x_train = sc.fit_transform(x_train)\n",
    "x_test = sc.transform(x_test)"
   ]
  },
  {
   "cell_type": "code",
   "execution_count": 24,
   "metadata": {
    "colab": {
     "base_uri": "https://localhost:8080/"
    },
    "id": "WSmGoQYCGb61",
    "outputId": "fff2ee63-3889-4653-b0d0-1f36a893edc1"
   },
   "outputs": [
    {
     "data": {
      "text/plain": [
       "array([[-2.16128976e-01,  6.31803517e-01, -6.49952506e-01, ...,\n",
       "         7.81466743e-03, -3.50258842e-02, -4.38237694e-01],\n",
       "       [ 7.28569755e-01,  7.71841108e-01, -1.97655605e-01, ...,\n",
       "        -6.18338668e-02, -8.48164095e-05, -4.28426020e-01],\n",
       "       [ 1.09351580e+00, -9.75598418e-02,  4.34682085e-01, ...,\n",
       "         4.39431653e-01,  2.50099729e-01, -4.38237694e-01],\n",
       "       ...,\n",
       "       [ 1.20861858e+00,  1.01848816e-01, -5.98658414e-01, ...,\n",
       "         1.77757948e-01, -3.07682159e-01,  2.64446103e-01],\n",
       "       [-2.88700448e-01,  3.83844514e-01, -1.55745646e+00, ...,\n",
       "        -2.32587644e-01,  2.86051851e-01,  3.33435091e+00],\n",
       "       [-7.96106913e-01, -1.69289762e+00,  1.73418689e+00, ...,\n",
       "         1.03036856e+00,  4.18931032e-01, -7.34272216e-04]])"
      ]
     },
     "execution_count": 24,
     "metadata": {},
     "output_type": "execute_result"
    }
   ],
   "source": [
    "x_train"
   ]
  },
  {
   "cell_type": "code",
   "execution_count": 25,
   "metadata": {
    "id": "hA8ChuPrHWFE"
   },
   "outputs": [],
   "source": [
    "y_train = y_train.to_numpy()\n",
    "y_test = y_test.to_numpy()"
   ]
  },
  {
   "cell_type": "code",
   "execution_count": 26,
   "metadata": {
    "colab": {
     "base_uri": "https://localhost:8080/"
    },
    "id": "QX6hjin9HWBm",
    "outputId": "901b2a78-52c0-448b-b5c2-a236f9dce9b3"
   },
   "outputs": [
    {
     "data": {
      "text/plain": [
       "((787, 30), (197, 30))"
      ]
     },
     "execution_count": 26,
     "metadata": {},
     "output_type": "execute_result"
    }
   ],
   "source": [
    "x_train.shape, x_test.shape"
   ]
  },
  {
   "cell_type": "code",
   "execution_count": 27,
   "metadata": {
    "id": "JK3eAkwRHV9r"
   },
   "outputs": [],
   "source": [
    "x_train = x_train.reshape(787,30,1)\n",
    "x_test = x_test.reshape(197,30,1)"
   ]
  },
  {
   "cell_type": "code",
   "execution_count": 28,
   "metadata": {
    "colab": {
     "base_uri": "https://localhost:8080/"
    },
    "id": "nJBKAKDnHV6z",
    "outputId": "0f8d86f5-a713-49ae-f745-61c9204b2ff0"
   },
   "outputs": [
    {
     "data": {
      "text/plain": [
       "((787, 30, 1), (197, 30, 1))"
      ]
     },
     "execution_count": 28,
     "metadata": {},
     "output_type": "execute_result"
    }
   ],
   "source": [
    "x_train.shape, x_test.shape"
   ]
  },
  {
   "cell_type": "code",
   "execution_count": 29,
   "metadata": {
    "id": "WsOQD--LJIoH"
   },
   "outputs": [],
   "source": [
    "model = tf.keras.models.Sequential()"
   ]
  },
  {
   "cell_type": "code",
   "execution_count": 30,
   "metadata": {
    "colab": {
     "base_uri": "https://localhost:8080/"
    },
    "id": "JZt_8_W3OB-7",
    "outputId": "f96e8340-a2d0-4249-8e78-58080da64a10"
   },
   "outputs": [
    {
     "name": "stderr",
     "output_type": "stream",
     "text": [
      "C:\\Users\\ACER\\AppData\\Local\\Programs\\Python\\Python312\\Lib\\site-packages\\keras\\src\\layers\\convolutional\\base_conv.py:107: UserWarning: Do not pass an `input_shape`/`input_dim` argument to a layer. When using Sequential models, prefer using an `Input(shape)` object as the first layer in the model instead.\n",
      "  super().__init__(activity_regularizer=activity_regularizer, **kwargs)\n"
     ]
    }
   ],
   "source": [
    "model.add(tf.keras.layers.Conv1D(filters=64,kernel_size=2,padding ='same',activation='relu',input_shape =(30,1) ))\n",
    "#batch normalization\n",
    "model.add(tf.keras.layers.BatchNormalization())\n",
    "#maxpool layer\n",
    "model.add(tf.keras.layers.MaxPool1D(pool_size=2))\n",
    "#dropout layer\n",
    "model.add(tf.keras.layers.Dropout(0.2))\n"
   ]
  },
  {
   "cell_type": "code",
   "execution_count": 31,
   "metadata": {
    "id": "PngbAiwaJIh-"
   },
   "outputs": [],
   "source": [
    "#2nd CNN Layer\n",
    "model.add(tf.keras.layers.Conv1D(filters=64,kernel_size=2,padding = 'same',activation='relu'))\n",
    "#batch normalization\n",
    "model.add(tf.keras.layers.BatchNormalization())\n",
    "#maxpool layer\n",
    "model.add(tf.keras.layers.MaxPool1D(pool_size=2))\n",
    "#dropout layer\n",
    "model.add(tf.keras.layers.Dropout(0.3))"
   ]
  },
  {
   "cell_type": "code",
   "execution_count": 32,
   "metadata": {
    "id": "o_MHpykDJIel"
   },
   "outputs": [],
   "source": [
    "# flatten Layer\n",
    "model.add(tf.keras.layers.Flatten())"
   ]
  },
  {
   "cell_type": "code",
   "execution_count": 33,
   "metadata": {
    "id": "w4pPlpA9JIXo"
   },
   "outputs": [],
   "source": [
    "# dense Layer\n",
    "model.add(tf.keras.layers.Dense(64,activation='relu'))"
   ]
  },
  {
   "cell_type": "code",
   "execution_count": 34,
   "metadata": {
    "id": "vGJfKEnoJIO4"
   },
   "outputs": [],
   "source": [
    "#dropout Layer\n",
    "model.add(tf.keras.layers.Dropout(0.3))"
   ]
  },
  {
   "cell_type": "code",
   "execution_count": 35,
   "metadata": {
    "id": "fonS2KRyNI9M"
   },
   "outputs": [],
   "source": [
    "#output Layer\n",
    "model.add(tf.keras.layers.Dense(1,activation='sigmoid'))"
   ]
  },
  {
   "cell_type": "code",
   "execution_count": 36,
   "metadata": {
    "colab": {
     "base_uri": "https://localhost:8080/",
     "height": 578
    },
    "id": "080oKgD9NItH",
    "outputId": "792ef30d-cd62-498e-c1cf-179a93a2fd81"
   },
   "outputs": [
    {
     "data": {
      "text/html": [
       "<pre style=\"white-space:pre;overflow-x:auto;line-height:normal;font-family:Menlo,'DejaVu Sans Mono',consolas,'Courier New',monospace\"><span style=\"font-weight: bold\">Model: \"sequential\"</span>\n",
       "</pre>\n"
      ],
      "text/plain": [
       "\u001b[1mModel: \"sequential\"\u001b[0m\n"
      ]
     },
     "metadata": {},
     "output_type": "display_data"
    },
    {
     "data": {
      "text/html": [
       "<pre style=\"white-space:pre;overflow-x:auto;line-height:normal;font-family:Menlo,'DejaVu Sans Mono',consolas,'Courier New',monospace\">┏━━━━━━━━━━━━━━━━━━━━━━━━━━━━━━━━━━━━━━┳━━━━━━━━━━━━━━━━━━━━━━━━━━━━━┳━━━━━━━━━━━━━━━━━┓\n",
       "┃<span style=\"font-weight: bold\"> Layer (type)                         </span>┃<span style=\"font-weight: bold\"> Output Shape                </span>┃<span style=\"font-weight: bold\">         Param # </span>┃\n",
       "┡━━━━━━━━━━━━━━━━━━━━━━━━━━━━━━━━━━━━━━╇━━━━━━━━━━━━━━━━━━━━━━━━━━━━━╇━━━━━━━━━━━━━━━━━┩\n",
       "│ conv1d (<span style=\"color: #0087ff; text-decoration-color: #0087ff\">Conv1D</span>)                      │ (<span style=\"color: #00d7ff; text-decoration-color: #00d7ff\">None</span>, <span style=\"color: #00af00; text-decoration-color: #00af00\">30</span>, <span style=\"color: #00af00; text-decoration-color: #00af00\">64</span>)              │             <span style=\"color: #00af00; text-decoration-color: #00af00\">192</span> │\n",
       "├──────────────────────────────────────┼─────────────────────────────┼─────────────────┤\n",
       "│ batch_normalization                  │ (<span style=\"color: #00d7ff; text-decoration-color: #00d7ff\">None</span>, <span style=\"color: #00af00; text-decoration-color: #00af00\">30</span>, <span style=\"color: #00af00; text-decoration-color: #00af00\">64</span>)              │             <span style=\"color: #00af00; text-decoration-color: #00af00\">256</span> │\n",
       "│ (<span style=\"color: #0087ff; text-decoration-color: #0087ff\">BatchNormalization</span>)                 │                             │                 │\n",
       "├──────────────────────────────────────┼─────────────────────────────┼─────────────────┤\n",
       "│ max_pooling1d (<span style=\"color: #0087ff; text-decoration-color: #0087ff\">MaxPooling1D</span>)         │ (<span style=\"color: #00d7ff; text-decoration-color: #00d7ff\">None</span>, <span style=\"color: #00af00; text-decoration-color: #00af00\">15</span>, <span style=\"color: #00af00; text-decoration-color: #00af00\">64</span>)              │               <span style=\"color: #00af00; text-decoration-color: #00af00\">0</span> │\n",
       "├──────────────────────────────────────┼─────────────────────────────┼─────────────────┤\n",
       "│ dropout (<span style=\"color: #0087ff; text-decoration-color: #0087ff\">Dropout</span>)                    │ (<span style=\"color: #00d7ff; text-decoration-color: #00d7ff\">None</span>, <span style=\"color: #00af00; text-decoration-color: #00af00\">15</span>, <span style=\"color: #00af00; text-decoration-color: #00af00\">64</span>)              │               <span style=\"color: #00af00; text-decoration-color: #00af00\">0</span> │\n",
       "├──────────────────────────────────────┼─────────────────────────────┼─────────────────┤\n",
       "│ conv1d_1 (<span style=\"color: #0087ff; text-decoration-color: #0087ff\">Conv1D</span>)                    │ (<span style=\"color: #00d7ff; text-decoration-color: #00d7ff\">None</span>, <span style=\"color: #00af00; text-decoration-color: #00af00\">15</span>, <span style=\"color: #00af00; text-decoration-color: #00af00\">64</span>)              │           <span style=\"color: #00af00; text-decoration-color: #00af00\">8,256</span> │\n",
       "├──────────────────────────────────────┼─────────────────────────────┼─────────────────┤\n",
       "│ batch_normalization_1                │ (<span style=\"color: #00d7ff; text-decoration-color: #00d7ff\">None</span>, <span style=\"color: #00af00; text-decoration-color: #00af00\">15</span>, <span style=\"color: #00af00; text-decoration-color: #00af00\">64</span>)              │             <span style=\"color: #00af00; text-decoration-color: #00af00\">256</span> │\n",
       "│ (<span style=\"color: #0087ff; text-decoration-color: #0087ff\">BatchNormalization</span>)                 │                             │                 │\n",
       "├──────────────────────────────────────┼─────────────────────────────┼─────────────────┤\n",
       "│ max_pooling1d_1 (<span style=\"color: #0087ff; text-decoration-color: #0087ff\">MaxPooling1D</span>)       │ (<span style=\"color: #00d7ff; text-decoration-color: #00d7ff\">None</span>, <span style=\"color: #00af00; text-decoration-color: #00af00\">7</span>, <span style=\"color: #00af00; text-decoration-color: #00af00\">64</span>)               │               <span style=\"color: #00af00; text-decoration-color: #00af00\">0</span> │\n",
       "├──────────────────────────────────────┼─────────────────────────────┼─────────────────┤\n",
       "│ dropout_1 (<span style=\"color: #0087ff; text-decoration-color: #0087ff\">Dropout</span>)                  │ (<span style=\"color: #00d7ff; text-decoration-color: #00d7ff\">None</span>, <span style=\"color: #00af00; text-decoration-color: #00af00\">7</span>, <span style=\"color: #00af00; text-decoration-color: #00af00\">64</span>)               │               <span style=\"color: #00af00; text-decoration-color: #00af00\">0</span> │\n",
       "├──────────────────────────────────────┼─────────────────────────────┼─────────────────┤\n",
       "│ flatten (<span style=\"color: #0087ff; text-decoration-color: #0087ff\">Flatten</span>)                    │ (<span style=\"color: #00d7ff; text-decoration-color: #00d7ff\">None</span>, <span style=\"color: #00af00; text-decoration-color: #00af00\">448</span>)                 │               <span style=\"color: #00af00; text-decoration-color: #00af00\">0</span> │\n",
       "├──────────────────────────────────────┼─────────────────────────────┼─────────────────┤\n",
       "│ dense (<span style=\"color: #0087ff; text-decoration-color: #0087ff\">Dense</span>)                        │ (<span style=\"color: #00d7ff; text-decoration-color: #00d7ff\">None</span>, <span style=\"color: #00af00; text-decoration-color: #00af00\">64</span>)                  │          <span style=\"color: #00af00; text-decoration-color: #00af00\">28,736</span> │\n",
       "├──────────────────────────────────────┼─────────────────────────────┼─────────────────┤\n",
       "│ dropout_2 (<span style=\"color: #0087ff; text-decoration-color: #0087ff\">Dropout</span>)                  │ (<span style=\"color: #00d7ff; text-decoration-color: #00d7ff\">None</span>, <span style=\"color: #00af00; text-decoration-color: #00af00\">64</span>)                  │               <span style=\"color: #00af00; text-decoration-color: #00af00\">0</span> │\n",
       "├──────────────────────────────────────┼─────────────────────────────┼─────────────────┤\n",
       "│ dense_1 (<span style=\"color: #0087ff; text-decoration-color: #0087ff\">Dense</span>)                      │ (<span style=\"color: #00d7ff; text-decoration-color: #00d7ff\">None</span>, <span style=\"color: #00af00; text-decoration-color: #00af00\">1</span>)                   │              <span style=\"color: #00af00; text-decoration-color: #00af00\">65</span> │\n",
       "└──────────────────────────────────────┴─────────────────────────────┴─────────────────┘\n",
       "</pre>\n"
      ],
      "text/plain": [
       "┏━━━━━━━━━━━━━━━━━━━━━━━━━━━━━━━━━━━━━━┳━━━━━━━━━━━━━━━━━━━━━━━━━━━━━┳━━━━━━━━━━━━━━━━━┓\n",
       "┃\u001b[1m \u001b[0m\u001b[1mLayer (type)                        \u001b[0m\u001b[1m \u001b[0m┃\u001b[1m \u001b[0m\u001b[1mOutput Shape               \u001b[0m\u001b[1m \u001b[0m┃\u001b[1m \u001b[0m\u001b[1m        Param #\u001b[0m\u001b[1m \u001b[0m┃\n",
       "┡━━━━━━━━━━━━━━━━━━━━━━━━━━━━━━━━━━━━━━╇━━━━━━━━━━━━━━━━━━━━━━━━━━━━━╇━━━━━━━━━━━━━━━━━┩\n",
       "│ conv1d (\u001b[38;5;33mConv1D\u001b[0m)                      │ (\u001b[38;5;45mNone\u001b[0m, \u001b[38;5;34m30\u001b[0m, \u001b[38;5;34m64\u001b[0m)              │             \u001b[38;5;34m192\u001b[0m │\n",
       "├──────────────────────────────────────┼─────────────────────────────┼─────────────────┤\n",
       "│ batch_normalization                  │ (\u001b[38;5;45mNone\u001b[0m, \u001b[38;5;34m30\u001b[0m, \u001b[38;5;34m64\u001b[0m)              │             \u001b[38;5;34m256\u001b[0m │\n",
       "│ (\u001b[38;5;33mBatchNormalization\u001b[0m)                 │                             │                 │\n",
       "├──────────────────────────────────────┼─────────────────────────────┼─────────────────┤\n",
       "│ max_pooling1d (\u001b[38;5;33mMaxPooling1D\u001b[0m)         │ (\u001b[38;5;45mNone\u001b[0m, \u001b[38;5;34m15\u001b[0m, \u001b[38;5;34m64\u001b[0m)              │               \u001b[38;5;34m0\u001b[0m │\n",
       "├──────────────────────────────────────┼─────────────────────────────┼─────────────────┤\n",
       "│ dropout (\u001b[38;5;33mDropout\u001b[0m)                    │ (\u001b[38;5;45mNone\u001b[0m, \u001b[38;5;34m15\u001b[0m, \u001b[38;5;34m64\u001b[0m)              │               \u001b[38;5;34m0\u001b[0m │\n",
       "├──────────────────────────────────────┼─────────────────────────────┼─────────────────┤\n",
       "│ conv1d_1 (\u001b[38;5;33mConv1D\u001b[0m)                    │ (\u001b[38;5;45mNone\u001b[0m, \u001b[38;5;34m15\u001b[0m, \u001b[38;5;34m64\u001b[0m)              │           \u001b[38;5;34m8,256\u001b[0m │\n",
       "├──────────────────────────────────────┼─────────────────────────────┼─────────────────┤\n",
       "│ batch_normalization_1                │ (\u001b[38;5;45mNone\u001b[0m, \u001b[38;5;34m15\u001b[0m, \u001b[38;5;34m64\u001b[0m)              │             \u001b[38;5;34m256\u001b[0m │\n",
       "│ (\u001b[38;5;33mBatchNormalization\u001b[0m)                 │                             │                 │\n",
       "├──────────────────────────────────────┼─────────────────────────────┼─────────────────┤\n",
       "│ max_pooling1d_1 (\u001b[38;5;33mMaxPooling1D\u001b[0m)       │ (\u001b[38;5;45mNone\u001b[0m, \u001b[38;5;34m7\u001b[0m, \u001b[38;5;34m64\u001b[0m)               │               \u001b[38;5;34m0\u001b[0m │\n",
       "├──────────────────────────────────────┼─────────────────────────────┼─────────────────┤\n",
       "│ dropout_1 (\u001b[38;5;33mDropout\u001b[0m)                  │ (\u001b[38;5;45mNone\u001b[0m, \u001b[38;5;34m7\u001b[0m, \u001b[38;5;34m64\u001b[0m)               │               \u001b[38;5;34m0\u001b[0m │\n",
       "├──────────────────────────────────────┼─────────────────────────────┼─────────────────┤\n",
       "│ flatten (\u001b[38;5;33mFlatten\u001b[0m)                    │ (\u001b[38;5;45mNone\u001b[0m, \u001b[38;5;34m448\u001b[0m)                 │               \u001b[38;5;34m0\u001b[0m │\n",
       "├──────────────────────────────────────┼─────────────────────────────┼─────────────────┤\n",
       "│ dense (\u001b[38;5;33mDense\u001b[0m)                        │ (\u001b[38;5;45mNone\u001b[0m, \u001b[38;5;34m64\u001b[0m)                  │          \u001b[38;5;34m28,736\u001b[0m │\n",
       "├──────────────────────────────────────┼─────────────────────────────┼─────────────────┤\n",
       "│ dropout_2 (\u001b[38;5;33mDropout\u001b[0m)                  │ (\u001b[38;5;45mNone\u001b[0m, \u001b[38;5;34m64\u001b[0m)                  │               \u001b[38;5;34m0\u001b[0m │\n",
       "├──────────────────────────────────────┼─────────────────────────────┼─────────────────┤\n",
       "│ dense_1 (\u001b[38;5;33mDense\u001b[0m)                      │ (\u001b[38;5;45mNone\u001b[0m, \u001b[38;5;34m1\u001b[0m)                   │              \u001b[38;5;34m65\u001b[0m │\n",
       "└──────────────────────────────────────┴─────────────────────────────┴─────────────────┘\n"
      ]
     },
     "metadata": {},
     "output_type": "display_data"
    },
    {
     "data": {
      "text/html": [
       "<pre style=\"white-space:pre;overflow-x:auto;line-height:normal;font-family:Menlo,'DejaVu Sans Mono',consolas,'Courier New',monospace\"><span style=\"font-weight: bold\"> Total params: </span><span style=\"color: #00af00; text-decoration-color: #00af00\">37,761</span> (147.50 KB)\n",
       "</pre>\n"
      ],
      "text/plain": [
       "\u001b[1m Total params: \u001b[0m\u001b[38;5;34m37,761\u001b[0m (147.50 KB)\n"
      ]
     },
     "metadata": {},
     "output_type": "display_data"
    },
    {
     "data": {
      "text/html": [
       "<pre style=\"white-space:pre;overflow-x:auto;line-height:normal;font-family:Menlo,'DejaVu Sans Mono',consolas,'Courier New',monospace\"><span style=\"font-weight: bold\"> Trainable params: </span><span style=\"color: #00af00; text-decoration-color: #00af00\">37,505</span> (146.50 KB)\n",
       "</pre>\n"
      ],
      "text/plain": [
       "\u001b[1m Trainable params: \u001b[0m\u001b[38;5;34m37,505\u001b[0m (146.50 KB)\n"
      ]
     },
     "metadata": {},
     "output_type": "display_data"
    },
    {
     "data": {
      "text/html": [
       "<pre style=\"white-space:pre;overflow-x:auto;line-height:normal;font-family:Menlo,'DejaVu Sans Mono',consolas,'Courier New',monospace\"><span style=\"font-weight: bold\"> Non-trainable params: </span><span style=\"color: #00af00; text-decoration-color: #00af00\">256</span> (1.00 KB)\n",
       "</pre>\n"
      ],
      "text/plain": [
       "\u001b[1m Non-trainable params: \u001b[0m\u001b[38;5;34m256\u001b[0m (1.00 KB)\n"
      ]
     },
     "metadata": {},
     "output_type": "display_data"
    }
   ],
   "source": [
    "model.summary()"
   ]
  },
  {
   "cell_type": "code",
   "execution_count": 37,
   "metadata": {
    "id": "-Jvk50bXPQjK"
   },
   "outputs": [],
   "source": [
    "opt = tf.keras.optimizers.Adam(learning_rate=0.0001)"
   ]
  },
  {
   "cell_type": "code",
   "execution_count": 38,
   "metadata": {
    "id": "jN6KZ-sMPQgO"
   },
   "outputs": [],
   "source": [
    "model.compile(optimizer=opt,loss='binary_crossentropy',metrics=['accuracy'])"
   ]
  },
  {
   "cell_type": "code",
   "execution_count": 39,
   "metadata": {
    "colab": {
     "base_uri": "https://localhost:8080/"
    },
    "id": "ObJx2SPbQv7c",
    "outputId": "64954964-2ebd-497d-a8cd-8ad1938b6ad5"
   },
   "outputs": [
    {
     "name": "stdout",
     "output_type": "stream",
     "text": [
      "Epoch 1/25\n",
      "\u001b[1m25/25\u001b[0m \u001b[32m━━━━━━━━━━━━━━━━━━━━\u001b[0m\u001b[37m\u001b[0m \u001b[1m7s\u001b[0m 26ms/step - accuracy: 0.6512 - loss: 0.7365 - val_accuracy: 0.7310 - val_loss: 0.6565\n",
      "Epoch 2/25\n",
      "\u001b[1m25/25\u001b[0m \u001b[32m━━━━━━━━━━━━━━━━━━━━\u001b[0m\u001b[37m\u001b[0m \u001b[1m0s\u001b[0m 9ms/step - accuracy: 0.7509 - loss: 0.5592 - val_accuracy: 0.7970 - val_loss: 0.6257\n",
      "Epoch 3/25\n",
      "\u001b[1m25/25\u001b[0m \u001b[32m━━━━━━━━━━━━━━━━━━━━\u001b[0m\u001b[37m\u001b[0m \u001b[1m0s\u001b[0m 10ms/step - accuracy: 0.8044 - loss: 0.4943 - val_accuracy: 0.7766 - val_loss: 0.6016\n",
      "Epoch 4/25\n",
      "\u001b[1m25/25\u001b[0m \u001b[32m━━━━━━━━━━━━━━━━━━━━\u001b[0m\u001b[37m\u001b[0m \u001b[1m0s\u001b[0m 10ms/step - accuracy: 0.8401 - loss: 0.3934 - val_accuracy: 0.7817 - val_loss: 0.5788\n",
      "Epoch 5/25\n",
      "\u001b[1m25/25\u001b[0m \u001b[32m━━━━━━━━━━━━━━━━━━━━\u001b[0m\u001b[37m\u001b[0m \u001b[1m0s\u001b[0m 10ms/step - accuracy: 0.8663 - loss: 0.3468 - val_accuracy: 0.7716 - val_loss: 0.5569\n",
      "Epoch 6/25\n",
      "\u001b[1m25/25\u001b[0m \u001b[32m━━━━━━━━━━━━━━━━━━━━\u001b[0m\u001b[37m\u001b[0m \u001b[1m0s\u001b[0m 18ms/step - accuracy: 0.8736 - loss: 0.3180 - val_accuracy: 0.7716 - val_loss: 0.5326\n",
      "Epoch 7/25\n",
      "\u001b[1m25/25\u001b[0m \u001b[32m━━━━━━━━━━━━━━━━━━━━\u001b[0m\u001b[37m\u001b[0m \u001b[1m0s\u001b[0m 11ms/step - accuracy: 0.8817 - loss: 0.3197 - val_accuracy: 0.7919 - val_loss: 0.5019\n",
      "Epoch 8/25\n",
      "\u001b[1m25/25\u001b[0m \u001b[32m━━━━━━━━━━━━━━━━━━━━\u001b[0m\u001b[37m\u001b[0m \u001b[1m0s\u001b[0m 10ms/step - accuracy: 0.9033 - loss: 0.2852 - val_accuracy: 0.8325 - val_loss: 0.4707\n",
      "Epoch 9/25\n",
      "\u001b[1m25/25\u001b[0m \u001b[32m━━━━━━━━━━━━━━━━━━━━\u001b[0m\u001b[37m\u001b[0m \u001b[1m0s\u001b[0m 10ms/step - accuracy: 0.8903 - loss: 0.2764 - val_accuracy: 0.8528 - val_loss: 0.4371\n",
      "Epoch 10/25\n",
      "\u001b[1m25/25\u001b[0m \u001b[32m━━━━━━━━━━━━━━━━━━━━\u001b[0m\u001b[37m\u001b[0m \u001b[1m0s\u001b[0m 10ms/step - accuracy: 0.9089 - loss: 0.2994 - val_accuracy: 0.8731 - val_loss: 0.4025\n",
      "Epoch 11/25\n",
      "\u001b[1m25/25\u001b[0m \u001b[32m━━━━━━━━━━━━━━━━━━━━\u001b[0m\u001b[37m\u001b[0m \u001b[1m0s\u001b[0m 10ms/step - accuracy: 0.9236 - loss: 0.2398 - val_accuracy: 0.8985 - val_loss: 0.3672\n",
      "Epoch 12/25\n",
      "\u001b[1m25/25\u001b[0m \u001b[32m━━━━━━━━━━━━━━━━━━━━\u001b[0m\u001b[37m\u001b[0m \u001b[1m0s\u001b[0m 10ms/step - accuracy: 0.8981 - loss: 0.2762 - val_accuracy: 0.9086 - val_loss: 0.3336\n",
      "Epoch 13/25\n",
      "\u001b[1m25/25\u001b[0m \u001b[32m━━━━━━━━━━━━━━━━━━━━\u001b[0m\u001b[37m\u001b[0m \u001b[1m0s\u001b[0m 10ms/step - accuracy: 0.8852 - loss: 0.2770 - val_accuracy: 0.9188 - val_loss: 0.3016\n",
      "Epoch 14/25\n",
      "\u001b[1m25/25\u001b[0m \u001b[32m━━━━━━━━━━━━━━━━━━━━\u001b[0m\u001b[37m\u001b[0m \u001b[1m0s\u001b[0m 10ms/step - accuracy: 0.9012 - loss: 0.2343 - val_accuracy: 0.9340 - val_loss: 0.2740\n",
      "Epoch 15/25\n",
      "\u001b[1m25/25\u001b[0m \u001b[32m━━━━━━━━━━━━━━━━━━━━\u001b[0m\u001b[37m\u001b[0m \u001b[1m0s\u001b[0m 10ms/step - accuracy: 0.8985 - loss: 0.2396 - val_accuracy: 0.9340 - val_loss: 0.2507\n",
      "Epoch 16/25\n",
      "\u001b[1m25/25\u001b[0m \u001b[32m━━━━━━━━━━━━━━━━━━━━\u001b[0m\u001b[37m\u001b[0m \u001b[1m0s\u001b[0m 10ms/step - accuracy: 0.9127 - loss: 0.2220 - val_accuracy: 0.9340 - val_loss: 0.2300\n",
      "Epoch 17/25\n",
      "\u001b[1m25/25\u001b[0m \u001b[32m━━━━━━━━━━━━━━━━━━━━\u001b[0m\u001b[37m\u001b[0m \u001b[1m0s\u001b[0m 11ms/step - accuracy: 0.9184 - loss: 0.2715 - val_accuracy: 0.9442 - val_loss: 0.2138\n",
      "Epoch 18/25\n",
      "\u001b[1m25/25\u001b[0m \u001b[32m━━━━━━━━━━━━━━━━━━━━\u001b[0m\u001b[37m\u001b[0m \u001b[1m0s\u001b[0m 10ms/step - accuracy: 0.9086 - loss: 0.2323 - val_accuracy: 0.9492 - val_loss: 0.2011\n",
      "Epoch 19/25\n",
      "\u001b[1m25/25\u001b[0m \u001b[32m━━━━━━━━━━━━━━━━━━━━\u001b[0m\u001b[37m\u001b[0m \u001b[1m0s\u001b[0m 11ms/step - accuracy: 0.9097 - loss: 0.2397 - val_accuracy: 0.9492 - val_loss: 0.1912\n",
      "Epoch 20/25\n",
      "\u001b[1m25/25\u001b[0m \u001b[32m━━━━━━━━━━━━━━━━━━━━\u001b[0m\u001b[37m\u001b[0m \u001b[1m0s\u001b[0m 10ms/step - accuracy: 0.9326 - loss: 0.1768 - val_accuracy: 0.9492 - val_loss: 0.1830\n",
      "Epoch 21/25\n",
      "\u001b[1m25/25\u001b[0m \u001b[32m━━━━━━━━━━━━━━━━━━━━\u001b[0m\u001b[37m\u001b[0m \u001b[1m0s\u001b[0m 13ms/step - accuracy: 0.9125 - loss: 0.2443 - val_accuracy: 0.9492 - val_loss: 0.1762\n",
      "Epoch 22/25\n",
      "\u001b[1m25/25\u001b[0m \u001b[32m━━━━━━━━━━━━━━━━━━━━\u001b[0m\u001b[37m\u001b[0m \u001b[1m0s\u001b[0m 10ms/step - accuracy: 0.9270 - loss: 0.2113 - val_accuracy: 0.9492 - val_loss: 0.1717\n",
      "Epoch 23/25\n",
      "\u001b[1m25/25\u001b[0m \u001b[32m━━━━━━━━━━━━━━━━━━━━\u001b[0m\u001b[37m\u001b[0m \u001b[1m0s\u001b[0m 10ms/step - accuracy: 0.9351 - loss: 0.1899 - val_accuracy: 0.9492 - val_loss: 0.1673\n",
      "Epoch 24/25\n",
      "\u001b[1m25/25\u001b[0m \u001b[32m━━━━━━━━━━━━━━━━━━━━\u001b[0m\u001b[37m\u001b[0m \u001b[1m0s\u001b[0m 10ms/step - accuracy: 0.9223 - loss: 0.1903 - val_accuracy: 0.9492 - val_loss: 0.1645\n",
      "Epoch 25/25\n",
      "\u001b[1m25/25\u001b[0m \u001b[32m━━━━━━━━━━━━━━━━━━━━\u001b[0m\u001b[37m\u001b[0m \u001b[1m0s\u001b[0m 10ms/step - accuracy: 0.9110 - loss: 0.2352 - val_accuracy: 0.9492 - val_loss: 0.1614\n"
     ]
    }
   ],
   "source": [
    "history = model.fit(x_train,y_train,epochs=25,validation_data=(x_test,y_test))"
   ]
  },
  {
   "cell_type": "code",
   "execution_count": 40,
   "metadata": {
    "colab": {
     "base_uri": "https://localhost:8080/"
    },
    "id": "6jQnB-H9Qv4F",
    "outputId": "72778f38-b600-4a1a-c319-7dd17ad585d3"
   },
   "outputs": [
    {
     "name": "stdout",
     "output_type": "stream",
     "text": [
      "\u001b[1m7/7\u001b[0m \u001b[32m━━━━━━━━━━━━━━━━━━━━\u001b[0m\u001b[37m\u001b[0m \u001b[1m0s\u001b[0m 31ms/step\n"
     ]
    }
   ],
   "source": [
    "y_pred = model.predict(x_test)"
   ]
  },
  {
   "cell_type": "code",
   "execution_count": 41,
   "metadata": {
    "colab": {
     "base_uri": "https://localhost:8080/"
    },
    "id": "psH8qMXSQvy5",
    "outputId": "807281ab-5cf5-416c-f921-44fb58db6adf"
   },
   "outputs": [
    {
     "name": "stdout",
     "output_type": "stream",
     "text": [
      "[0.04291834]\n",
      "0\n"
     ]
    },
    {
     "data": {
      "text/plain": [
       "(None, None)"
      ]
     },
     "execution_count": 41,
     "metadata": {},
     "output_type": "execute_result"
    }
   ],
   "source": [
    "print(y_pred[12]),print(y_test[12])"
   ]
  },
  {
   "cell_type": "code",
   "execution_count": 42,
   "metadata": {
    "id": "DTsudLa2QvvE"
   },
   "outputs": [],
   "source": [
    "from sklearn.metrics import accuracy_score,confusion_matrix"
   ]
  },
  {
   "cell_type": "code",
   "execution_count": 43,
   "metadata": {
    "id": "AQTeqK8jWWrt"
   },
   "outputs": [],
   "source": [
    "cm = confusion_matrix(y_test,y_pred.round())"
   ]
  },
  {
   "cell_type": "code",
   "execution_count": 44,
   "metadata": {
    "colab": {
     "base_uri": "https://localhost:8080/"
    },
    "id": "7foIzyJfWWpB",
    "outputId": "ecd75f7d-00d1-46a8-864e-5a4570a3e990"
   },
   "outputs": [
    {
     "name": "stdout",
     "output_type": "stream",
     "text": [
      "[[101   1]\n",
      " [  9  86]]\n"
     ]
    }
   ],
   "source": [
    "print(cm)"
   ]
  },
  {
   "cell_type": "code",
   "execution_count": 45,
   "metadata": {
    "id": "mVZ7XsbJWWlj"
   },
   "outputs": [],
   "source": [
    "acc_cm = accuracy_score(y_test,y_pred.round())"
   ]
  },
  {
   "cell_type": "code",
   "execution_count": 46,
   "metadata": {
    "colab": {
     "base_uri": "https://localhost:8080/"
    },
    "id": "5ovOMxZrWWY7",
    "outputId": "bcfc4b4d-0cc6-4f94-dff7-95c874fd3bbb"
   },
   "outputs": [
    {
     "name": "stdout",
     "output_type": "stream",
     "text": [
      "0.949238578680203\n"
     ]
    }
   ],
   "source": [
    "print(acc_cm)"
   ]
  },
  {
   "cell_type": "code",
   "execution_count": 50,
   "metadata": {},
   "outputs": [
    {
     "name": "stderr",
     "output_type": "stream",
     "text": [
      "WARNING:absl:You are saving your model as an HDF5 file via `model.save()` or `keras.saving.save_model(model)`. This file format is considered legacy. We recommend using instead the native Keras format, e.g. `model.save('my_model.keras')` or `keras.saving.save_model(model, 'my_model.keras')`. \n"
     ]
    }
   ],
   "source": [
    "model.save('fraud_detection_model.h5')"
   ]
  },
  {
   "cell_type": "code",
   "execution_count": 49,
   "metadata": {
    "id": "yZt6wLELWWWN"
   },
   "outputs": [
    {
     "name": "stdout",
     "output_type": "stream",
     "text": [
      "Collecting streamlit\n",
      "  Using cached streamlit-1.38.0-py2.py3-none-any.whl.metadata (8.5 kB)\n",
      "Collecting altair<6,>=4.0 (from streamlit)\n",
      "  Using cached altair-5.4.1-py3-none-any.whl.metadata (9.4 kB)\n",
      "Collecting blinker<2,>=1.0.0 (from streamlit)\n",
      "  Using cached blinker-1.8.2-py3-none-any.whl.metadata (1.6 kB)\n",
      "Collecting cachetools<6,>=4.0 (from streamlit)\n",
      "  Using cached cachetools-5.5.0-py3-none-any.whl.metadata (5.3 kB)\n",
      "Collecting click<9,>=7.0 (from streamlit)\n",
      "  Using cached click-8.1.7-py3-none-any.whl.metadata (3.0 kB)\n",
      "Requirement already satisfied: numpy<3,>=1.20 in c:\\users\\acer\\appdata\\local\\programs\\python\\python312\\lib\\site-packages (from streamlit) (1.26.4)\n",
      "Requirement already satisfied: packaging<25,>=20 in c:\\users\\acer\\appdata\\local\\programs\\python\\python312\\lib\\site-packages (from streamlit) (24.1)\n",
      "Requirement already satisfied: pandas<3,>=1.3.0 in c:\\users\\acer\\appdata\\local\\programs\\python\\python312\\lib\\site-packages (from streamlit) (2.2.2)\n",
      "Requirement already satisfied: pillow<11,>=7.1.0 in c:\\users\\acer\\appdata\\local\\programs\\python\\python312\\lib\\site-packages (from streamlit) (10.3.0)\n",
      "Requirement already satisfied: protobuf<6,>=3.20 in c:\\users\\acer\\appdata\\local\\programs\\python\\python312\\lib\\site-packages (from streamlit) (4.25.3)\n",
      "Collecting pyarrow>=7.0 (from streamlit)\n",
      "  Using cached pyarrow-17.0.0-cp312-cp312-win_amd64.whl.metadata (3.4 kB)\n",
      "Requirement already satisfied: requests<3,>=2.27 in c:\\users\\acer\\appdata\\local\\programs\\python\\python312\\lib\\site-packages (from streamlit) (2.32.3)\n",
      "Requirement already satisfied: rich<14,>=10.14.0 in c:\\users\\acer\\appdata\\local\\programs\\python\\python312\\lib\\site-packages (from streamlit) (13.7.1)\n",
      "Requirement already satisfied: tenacity<9,>=8.1.0 in c:\\users\\acer\\appdata\\local\\programs\\python\\python312\\lib\\site-packages (from streamlit) (8.5.0)\n",
      "Collecting toml<2,>=0.10.1 (from streamlit)\n",
      "  Using cached toml-0.10.2-py2.py3-none-any.whl.metadata (7.1 kB)\n",
      "Requirement already satisfied: typing-extensions<5,>=4.3.0 in c:\\users\\acer\\appdata\\local\\programs\\python\\python312\\lib\\site-packages (from streamlit) (4.12.2)\n",
      "Collecting gitpython!=3.1.19,<4,>=3.0.7 (from streamlit)\n",
      "  Using cached GitPython-3.1.43-py3-none-any.whl.metadata (13 kB)\n",
      "Collecting pydeck<1,>=0.8.0b4 (from streamlit)\n",
      "  Using cached pydeck-0.9.1-py2.py3-none-any.whl.metadata (4.1 kB)\n",
      "Requirement already satisfied: tornado<7,>=6.0.3 in c:\\users\\acer\\appdata\\local\\programs\\python\\python312\\lib\\site-packages (from streamlit) (6.4.1)\n",
      "Collecting watchdog<5,>=2.1.5 (from streamlit)\n",
      "  Using cached watchdog-4.0.2-py3-none-win_amd64.whl.metadata (38 kB)\n",
      "Requirement already satisfied: jinja2 in c:\\users\\acer\\appdata\\local\\programs\\python\\python312\\lib\\site-packages (from altair<6,>=4.0->streamlit) (3.1.4)\n",
      "Requirement already satisfied: jsonschema>=3.0 in c:\\users\\acer\\appdata\\local\\programs\\python\\python312\\lib\\site-packages (from altair<6,>=4.0->streamlit) (4.22.0)\n",
      "Collecting narwhals>=1.5.2 (from altair<6,>=4.0->streamlit)\n",
      "  Using cached narwhals-1.6.2-py3-none-any.whl.metadata (5.8 kB)\n",
      "Requirement already satisfied: colorama in c:\\users\\acer\\appdata\\local\\programs\\python\\python312\\lib\\site-packages (from click<9,>=7.0->streamlit) (0.4.6)\n",
      "Collecting gitdb<5,>=4.0.1 (from gitpython!=3.1.19,<4,>=3.0.7->streamlit)\n",
      "  Using cached gitdb-4.0.11-py3-none-any.whl.metadata (1.2 kB)\n",
      "Requirement already satisfied: python-dateutil>=2.8.2 in c:\\users\\acer\\appdata\\local\\programs\\python\\python312\\lib\\site-packages (from pandas<3,>=1.3.0->streamlit) (2.9.0.post0)\n",
      "Requirement already satisfied: pytz>=2020.1 in c:\\users\\acer\\appdata\\local\\programs\\python\\python312\\lib\\site-packages (from pandas<3,>=1.3.0->streamlit) (2024.1)\n",
      "Requirement already satisfied: tzdata>=2022.7 in c:\\users\\acer\\appdata\\local\\programs\\python\\python312\\lib\\site-packages (from pandas<3,>=1.3.0->streamlit) (2024.1)\n",
      "Requirement already satisfied: charset-normalizer<4,>=2 in c:\\users\\acer\\appdata\\local\\programs\\python\\python312\\lib\\site-packages (from requests<3,>=2.27->streamlit) (3.3.2)\n",
      "Requirement already satisfied: idna<4,>=2.5 in c:\\users\\acer\\appdata\\local\\programs\\python\\python312\\lib\\site-packages (from requests<3,>=2.27->streamlit) (3.7)\n",
      "Requirement already satisfied: urllib3<3,>=1.21.1 in c:\\users\\acer\\appdata\\local\\programs\\python\\python312\\lib\\site-packages (from requests<3,>=2.27->streamlit) (2.2.2)\n",
      "Requirement already satisfied: certifi>=2017.4.17 in c:\\users\\acer\\appdata\\local\\programs\\python\\python312\\lib\\site-packages (from requests<3,>=2.27->streamlit) (2024.6.2)\n",
      "Requirement already satisfied: markdown-it-py>=2.2.0 in c:\\users\\acer\\appdata\\local\\programs\\python\\python312\\lib\\site-packages (from rich<14,>=10.14.0->streamlit) (3.0.0)\n",
      "Requirement already satisfied: pygments<3.0.0,>=2.13.0 in c:\\users\\acer\\appdata\\local\\programs\\python\\python312\\lib\\site-packages (from rich<14,>=10.14.0->streamlit) (2.18.0)\n",
      "Collecting smmap<6,>=3.0.1 (from gitdb<5,>=4.0.1->gitpython!=3.1.19,<4,>=3.0.7->streamlit)\n",
      "  Using cached smmap-5.0.1-py3-none-any.whl.metadata (4.3 kB)\n",
      "Requirement already satisfied: MarkupSafe>=2.0 in c:\\users\\acer\\appdata\\local\\programs\\python\\python312\\lib\\site-packages (from jinja2->altair<6,>=4.0->streamlit) (2.1.5)\n",
      "Requirement already satisfied: attrs>=22.2.0 in c:\\users\\acer\\appdata\\local\\programs\\python\\python312\\lib\\site-packages (from jsonschema>=3.0->altair<6,>=4.0->streamlit) (23.2.0)\n",
      "Requirement already satisfied: jsonschema-specifications>=2023.03.6 in c:\\users\\acer\\appdata\\local\\programs\\python\\python312\\lib\\site-packages (from jsonschema>=3.0->altair<6,>=4.0->streamlit) (2023.12.1)\n",
      "Requirement already satisfied: referencing>=0.28.4 in c:\\users\\acer\\appdata\\local\\programs\\python\\python312\\lib\\site-packages (from jsonschema>=3.0->altair<6,>=4.0->streamlit) (0.35.1)\n",
      "Requirement already satisfied: rpds-py>=0.7.1 in c:\\users\\acer\\appdata\\local\\programs\\python\\python312\\lib\\site-packages (from jsonschema>=3.0->altair<6,>=4.0->streamlit) (0.18.1)\n",
      "Requirement already satisfied: mdurl~=0.1 in c:\\users\\acer\\appdata\\local\\programs\\python\\python312\\lib\\site-packages (from markdown-it-py>=2.2.0->rich<14,>=10.14.0->streamlit) (0.1.2)\n",
      "Requirement already satisfied: six>=1.5 in c:\\users\\acer\\appdata\\local\\programs\\python\\python312\\lib\\site-packages (from python-dateutil>=2.8.2->pandas<3,>=1.3.0->streamlit) (1.16.0)\n",
      "Downloading streamlit-1.38.0-py2.py3-none-any.whl (8.7 MB)\n",
      "   ---------------------------------------- 0.0/8.7 MB ? eta -:--:--\n",
      "   ---------------------------------------- 0.0/8.7 MB ? eta -:--:--\n",
      "   ---------------------------------------- 0.0/8.7 MB ? eta -:--:--\n",
      "   ---------------------------------------- 0.0/8.7 MB ? eta -:--:--\n",
      "   - -------------------------------------- 0.3/8.7 MB ? eta -:--:--\n",
      "   - -------------------------------------- 0.3/8.7 MB ? eta -:--:--\n",
      "   -- ------------------------------------- 0.5/8.7 MB 441.3 kB/s eta 0:00:19\n",
      "   -- ------------------------------------- 0.5/8.7 MB 441.3 kB/s eta 0:00:19\n",
      "   -- ------------------------------------- 0.5/8.7 MB 441.3 kB/s eta 0:00:19\n",
      "   --- ------------------------------------ 0.8/8.7 MB 500.8 kB/s eta 0:00:16\n",
      "   ---- ----------------------------------- 1.0/8.7 MB 559.3 kB/s eta 0:00:14\n",
      "   ---- ----------------------------------- 1.0/8.7 MB 559.3 kB/s eta 0:00:14\n",
      "   ----- ---------------------------------- 1.3/8.7 MB 578.4 kB/s eta 0:00:13\n",
      "   ----- ---------------------------------- 1.3/8.7 MB 578.4 kB/s eta 0:00:13\n",
      "   ------- -------------------------------- 1.6/8.7 MB 595.0 kB/s eta 0:00:13\n",
      "   ------- -------------------------------- 1.6/8.7 MB 595.0 kB/s eta 0:00:13\n",
      "   -------- ------------------------------- 1.8/8.7 MB 629.1 kB/s eta 0:00:11\n",
      "   --------- ------------------------------ 2.1/8.7 MB 659.8 kB/s eta 0:00:11\n",
      "   ---------- ----------------------------- 2.4/8.7 MB 691.9 kB/s eta 0:00:10\n",
      "   ---------- ----------------------------- 2.4/8.7 MB 691.9 kB/s eta 0:00:10\n",
      "   ----------- ---------------------------- 2.6/8.7 MB 705.5 kB/s eta 0:00:09\n",
      "   ------------- -------------------------- 2.9/8.7 MB 723.2 kB/s eta 0:00:09\n",
      "   -------------- ------------------------- 3.1/8.7 MB 744.1 kB/s eta 0:00:08\n",
      "   -------------- ------------------------- 3.1/8.7 MB 744.1 kB/s eta 0:00:08\n",
      "   --------------- ------------------------ 3.4/8.7 MB 745.6 kB/s eta 0:00:08\n",
      "   ---------------- ----------------------- 3.7/8.7 MB 773.5 kB/s eta 0:00:07\n",
      "   ----------------- ---------------------- 3.9/8.7 MB 788.2 kB/s eta 0:00:07\n",
      "   ------------------- -------------------- 4.2/8.7 MB 809.1 kB/s eta 0:00:06\n",
      "   -------------------- ------------------- 4.5/8.7 MB 828.4 kB/s eta 0:00:06\n",
      "   --------------------- ------------------ 4.7/8.7 MB 856.5 kB/s eta 0:00:05\n",
      "   ---------------------- ----------------- 5.0/8.7 MB 875.3 kB/s eta 0:00:05\n",
      "   ----------------------- ---------------- 5.2/8.7 MB 873.4 kB/s eta 0:00:05\n",
      "   ------------------------- -------------- 5.5/8.7 MB 906.9 kB/s eta 0:00:04\n",
      "   -------------------------- ------------- 5.8/8.7 MB 898.8 kB/s eta 0:00:04\n",
      "   -------------------------- ------------- 5.8/8.7 MB 898.8 kB/s eta 0:00:04\n",
      "   --------------------------- ------------ 6.0/8.7 MB 902.4 kB/s eta 0:00:04\n",
      "   ---------------------------- ----------- 6.3/8.7 MB 899.5 kB/s eta 0:00:03\n",
      "   ---------------------------- ----------- 6.3/8.7 MB 899.5 kB/s eta 0:00:03\n",
      "   ----------------------------- ---------- 6.6/8.7 MB 881.0 kB/s eta 0:00:03\n",
      "   ----------------------------- ---------- 6.6/8.7 MB 881.0 kB/s eta 0:00:03\n",
      "   ------------------------------- -------- 6.8/8.7 MB 875.6 kB/s eta 0:00:03\n",
      "   -------------------------------- ------- 7.1/8.7 MB 874.1 kB/s eta 0:00:02\n",
      "   -------------------------------- ------- 7.1/8.7 MB 874.1 kB/s eta 0:00:02\n",
      "   --------------------------------- ------ 7.3/8.7 MB 874.5 kB/s eta 0:00:02\n",
      "   ---------------------------------- ----- 7.6/8.7 MB 879.7 kB/s eta 0:00:02\n",
      "   ----------------------------------- ---- 7.9/8.7 MB 882.9 kB/s eta 0:00:01\n",
      "   ------------------------------------- -- 8.1/8.7 MB 887.6 kB/s eta 0:00:01\n",
      "   ------------------------------------- -- 8.1/8.7 MB 887.6 kB/s eta 0:00:01\n",
      "   -------------------------------------- - 8.4/8.7 MB 887.6 kB/s eta 0:00:01\n",
      "   -------------------------------------- - 8.4/8.7 MB 887.6 kB/s eta 0:00:01\n",
      "   ---------------------------------------  8.7/8.7 MB 874.4 kB/s eta 0:00:01\n",
      "   ---------------------------------------- 8.7/8.7 MB 871.0 kB/s eta 0:00:00\n",
      "Downloading altair-5.4.1-py3-none-any.whl (658 kB)\n",
      "   ---------------------------------------- 0.0/658.1 kB ? eta -:--:--\n",
      "   ---------------------------------------- 0.0/658.1 kB ? eta -:--:--\n",
      "   ---------------------------------------- 0.0/658.1 kB ? eta -:--:--\n",
      "   --------------- ------------------------ 262.1/658.1 kB ? eta -:--:--\n",
      "   --------------- ------------------------ 262.1/658.1 kB ? eta -:--:--\n",
      "   ------------------------------ ------- 524.3/658.1 kB 558.9 kB/s eta 0:00:01\n",
      "   -------------------------------------- 658.1/658.1 kB 550.8 kB/s eta 0:00:00\n",
      "Downloading blinker-1.8.2-py3-none-any.whl (9.5 kB)\n",
      "Downloading cachetools-5.5.0-py3-none-any.whl (9.5 kB)\n",
      "Downloading click-8.1.7-py3-none-any.whl (97 kB)\n",
      "Downloading GitPython-3.1.43-py3-none-any.whl (207 kB)\n",
      "Downloading pyarrow-17.0.0-cp312-cp312-win_amd64.whl (25.1 MB)\n",
      "   ---------------------------------------- 0.0/25.1 MB ? eta -:--:--\n",
      "   ---------------------------------------- 0.0/25.1 MB ? eta -:--:--\n",
      "   ---------------------------------------- 0.3/25.1 MB ? eta -:--:--\n",
      "   ---------------------------------------- 0.3/25.1 MB ? eta -:--:--\n",
      "    --------------------------------------- 0.5/25.1 MB 730.2 kB/s eta 0:00:34\n",
      "    --------------------------------------- 0.5/25.1 MB 730.2 kB/s eta 0:00:34\n",
      "   - -------------------------------------- 0.8/25.1 MB 684.4 kB/s eta 0:00:36\n",
      "   - -------------------------------------- 0.8/25.1 MB 684.4 kB/s eta 0:00:36\n",
      "   - -------------------------------------- 1.0/25.1 MB 606.3 kB/s eta 0:00:40\n",
      "   - -------------------------------------- 1.0/25.1 MB 606.3 kB/s eta 0:00:40\n",
      "   -- ------------------------------------- 1.3/25.1 MB 621.6 kB/s eta 0:00:39\n",
      "   -- ------------------------------------- 1.3/25.1 MB 621.6 kB/s eta 0:00:39\n",
      "   -- ------------------------------------- 1.6/25.1 MB 625.9 kB/s eta 0:00:38\n",
      "   -- ------------------------------------- 1.6/25.1 MB 625.9 kB/s eta 0:00:38\n",
      "   -- ------------------------------------- 1.8/25.1 MB 671.0 kB/s eta 0:00:35\n",
      "   --- ------------------------------------ 2.1/25.1 MB 720.5 kB/s eta 0:00:32\n",
      "   ---- ----------------------------------- 2.6/25.1 MB 803.3 kB/s eta 0:00:28\n",
      "   ---- ----------------------------------- 2.6/25.1 MB 803.3 kB/s eta 0:00:28\n",
      "   ---- ----------------------------------- 2.9/25.1 MB 826.4 kB/s eta 0:00:27\n",
      "   ----- ---------------------------------- 3.1/25.1 MB 854.4 kB/s eta 0:00:26\n",
      "   ----- ---------------------------------- 3.4/25.1 MB 860.4 kB/s eta 0:00:26\n",
      "   ----- ---------------------------------- 3.4/25.1 MB 860.4 kB/s eta 0:00:26\n",
      "   ----- ---------------------------------- 3.7/25.1 MB 855.4 kB/s eta 0:00:26\n",
      "   ------ --------------------------------- 3.9/25.1 MB 866.8 kB/s eta 0:00:25\n",
      "   ------ --------------------------------- 4.2/25.1 MB 879.9 kB/s eta 0:00:24\n",
      "   ------- -------------------------------- 4.7/25.1 MB 929.0 kB/s eta 0:00:22\n",
      "   ------- -------------------------------- 4.7/25.1 MB 929.0 kB/s eta 0:00:22\n",
      "   ------- -------------------------------- 5.0/25.1 MB 929.2 kB/s eta 0:00:22\n",
      "   -------- ------------------------------- 5.2/25.1 MB 940.3 kB/s eta 0:00:22\n",
      "   -------- ------------------------------- 5.5/25.1 MB 953.2 kB/s eta 0:00:21\n",
      "   --------- ------------------------------ 5.8/25.1 MB 949.6 kB/s eta 0:00:21\n",
      "   --------- ------------------------------ 5.8/25.1 MB 949.6 kB/s eta 0:00:21\n",
      "   --------- ------------------------------ 6.0/25.1 MB 927.3 kB/s eta 0:00:21\n",
      "   --------- ------------------------------ 6.0/25.1 MB 927.3 kB/s eta 0:00:21\n",
      "   ---------- ----------------------------- 6.3/25.1 MB 920.9 kB/s eta 0:00:21\n",
      "   ---------- ----------------------------- 6.6/25.1 MB 919.3 kB/s eta 0:00:21\n",
      "   ---------- ----------------------------- 6.6/25.1 MB 919.3 kB/s eta 0:00:21\n",
      "   ---------- ----------------------------- 6.8/25.1 MB 917.7 kB/s eta 0:00:20\n",
      "   ----------- ---------------------------- 7.1/25.1 MB 926.2 kB/s eta 0:00:20\n",
      "   ----------- ---------------------------- 7.3/25.1 MB 930.2 kB/s eta 0:00:20\n",
      "   ------------ --------------------------- 7.6/25.1 MB 932.1 kB/s eta 0:00:19\n",
      "   ------------ --------------------------- 7.9/25.1 MB 935.7 kB/s eta 0:00:19\n",
      "   ------------ --------------------------- 7.9/25.1 MB 935.7 kB/s eta 0:00:19\n",
      "   ------------ --------------------------- 8.1/25.1 MB 937.2 kB/s eta 0:00:19\n",
      "   ------------- -------------------------- 8.4/25.1 MB 947.4 kB/s eta 0:00:18\n",
      "   ------------- -------------------------- 8.7/25.1 MB 955.3 kB/s eta 0:00:18\n",
      "   -------------- ------------------------- 8.9/25.1 MB 962.9 kB/s eta 0:00:17\n",
      "   -------------- ------------------------- 9.2/25.1 MB 961.9 kB/s eta 0:00:17\n",
      "   --------------- ------------------------ 9.4/25.1 MB 970.6 kB/s eta 0:00:17\n",
      "   --------------- ------------------------ 9.7/25.1 MB 974.2 kB/s eta 0:00:16\n",
      "   --------------- ------------------------ 10.0/25.1 MB 979.1 kB/s eta 0:00:16\n",
      "   ---------------- ----------------------- 10.2/25.1 MB 974.8 kB/s eta 0:00:16\n",
      "   ---------------- ----------------------- 10.2/25.1 MB 974.8 kB/s eta 0:00:16\n",
      "   ---------------- ----------------------- 10.5/25.1 MB 970.8 kB/s eta 0:00:16\n",
      "   ---------------- ----------------------- 10.5/25.1 MB 970.8 kB/s eta 0:00:16\n",
      "   ----------------- ---------------------- 10.7/25.1 MB 965.6 kB/s eta 0:00:15\n",
      "   ----------------- ---------------------- 11.0/25.1 MB 963.4 kB/s eta 0:00:15\n",
      "   ----------------- ---------------------- 11.3/25.1 MB 961.3 kB/s eta 0:00:15\n",
      "   ------------------ --------------------- 11.5/25.1 MB 968.3 kB/s eta 0:00:15\n",
      "   ------------------ --------------------- 11.8/25.1 MB 971.3 kB/s eta 0:00:14\n",
      "   ------------------- -------------------- 12.1/25.1 MB 978.0 kB/s eta 0:00:14\n",
      "   ------------------- -------------------- 12.1/25.1 MB 978.0 kB/s eta 0:00:14\n",
      "   ------------------- -------------------- 12.3/25.1 MB 978.1 kB/s eta 0:00:14\n",
      "   -------------------- ------------------- 12.6/25.1 MB 978.3 kB/s eta 0:00:13\n",
      "   -------------------- ------------------- 12.8/25.1 MB 984.5 kB/s eta 0:00:13\n",
      "   -------------------- ------------------- 13.1/25.1 MB 983.4 kB/s eta 0:00:13\n",
      "   --------------------- ------------------ 13.4/25.1 MB 990.4 kB/s eta 0:00:12\n",
      "   --------------------- ------------------ 13.6/25.1 MB 996.1 kB/s eta 0:00:12\n",
      "   ---------------------- ----------------- 13.9/25.1 MB 993.6 kB/s eta 0:00:12\n",
      "   ---------------------- ----------------- 14.2/25.1 MB 1.0 MB/s eta 0:00:11\n",
      "   ---------------------- ----------------- 14.4/25.1 MB 1.0 MB/s eta 0:00:11\n",
      "   ---------------------- ----------------- 14.4/25.1 MB 1.0 MB/s eta 0:00:11\n",
      "   ----------------------- ---------------- 14.7/25.1 MB 1.0 MB/s eta 0:00:11\n",
      "   ----------------------- ---------------- 14.9/25.1 MB 999.5 kB/s eta 0:00:11\n",
      "   ----------------------- ---------------- 14.9/25.1 MB 999.5 kB/s eta 0:00:11\n",
      "   ------------------------ --------------- 15.2/25.1 MB 998.2 kB/s eta 0:00:10\n",
      "   ------------------------ --------------- 15.5/25.1 MB 1.0 MB/s eta 0:00:10\n",
      "   ------------------------ --------------- 15.5/25.1 MB 1.0 MB/s eta 0:00:10\n",
      "   ------------------------- -------------- 15.7/25.1 MB 987.9 kB/s eta 0:00:10\n",
      "   ------------------------- -------------- 16.0/25.1 MB 984.9 kB/s eta 0:00:10\n",
      "   ------------------------- -------------- 16.0/25.1 MB 984.9 kB/s eta 0:00:10\n",
      "   ------------------------- -------------- 16.3/25.1 MB 974.7 kB/s eta 0:00:10\n",
      "   ------------------------- -------------- 16.3/25.1 MB 974.7 kB/s eta 0:00:10\n",
      "   -------------------------- ------------- 16.5/25.1 MB 974.0 kB/s eta 0:00:09\n",
      "   -------------------------- ------------- 16.8/25.1 MB 974.2 kB/s eta 0:00:09\n",
      "   --------------------------- ------------ 17.0/25.1 MB 976.2 kB/s eta 0:00:09\n",
      "   --------------------------- ------------ 17.0/25.1 MB 976.2 kB/s eta 0:00:09\n",
      "   --------------------------- ------------ 17.3/25.1 MB 976.3 kB/s eta 0:00:08\n",
      "   --------------------------- ------------ 17.3/25.1 MB 976.3 kB/s eta 0:00:08\n",
      "   --------------------------- ------------ 17.6/25.1 MB 968.8 kB/s eta 0:00:08\n",
      "   ---------------------------- ----------- 17.8/25.1 MB 969.0 kB/s eta 0:00:08\n",
      "   ---------------------------- ----------- 18.1/25.1 MB 969.3 kB/s eta 0:00:08\n",
      "   ---------------------------- ----------- 18.1/25.1 MB 969.3 kB/s eta 0:00:08\n",
      "   ----------------------------- ---------- 18.4/25.1 MB 965.5 kB/s eta 0:00:07\n",
      "   ----------------------------- ---------- 18.6/25.1 MB 965.8 kB/s eta 0:00:07\n",
      "   ------------------------------ --------- 18.9/25.1 MB 967.7 kB/s eta 0:00:07\n",
      "   ------------------------------ --------- 18.9/25.1 MB 967.7 kB/s eta 0:00:07\n",
      "   ------------------------------ --------- 19.1/25.1 MB 967.1 kB/s eta 0:00:07\n",
      "   ------------------------------ --------- 19.4/25.1 MB 969.7 kB/s eta 0:00:06\n",
      "   ------------------------------- -------- 19.7/25.1 MB 969.2 kB/s eta 0:00:06\n",
      "   ------------------------------- -------- 19.9/25.1 MB 970.1 kB/s eta 0:00:06\n",
      "   ------------------------------- -------- 19.9/25.1 MB 970.1 kB/s eta 0:00:06\n",
      "   -------------------------------- ------- 20.2/25.1 MB 968.2 kB/s eta 0:00:06\n",
      "   -------------------------------- ------- 20.4/25.1 MB 967.0 kB/s eta 0:00:05\n",
      "   -------------------------------- ------- 20.4/25.1 MB 967.0 kB/s eta 0:00:05\n",
      "   --------------------------------- ------ 20.7/25.1 MB 962.2 kB/s eta 0:00:05\n",
      "   --------------------------------- ------ 21.0/25.1 MB 963.2 kB/s eta 0:00:05\n",
      "   --------------------------------- ------ 21.2/25.1 MB 966.3 kB/s eta 0:00:05\n",
      "   --------------------------------- ------ 21.2/25.1 MB 966.3 kB/s eta 0:00:05\n",
      "   ---------------------------------- ----- 21.5/25.1 MB 965.9 kB/s eta 0:00:04\n",
      "   ----------------------------------- ---- 22.0/25.1 MB 972.4 kB/s eta 0:00:04\n",
      "   ----------------------------------- ---- 22.0/25.1 MB 972.4 kB/s eta 0:00:04\n",
      "   ----------------------------------- ---- 22.5/25.1 MB 977.4 kB/s eta 0:00:03\n",
      "   ----------------------------------- ---- 22.5/25.1 MB 977.4 kB/s eta 0:00:03\n",
      "   ------------------------------------ --- 23.1/25.1 MB 982.9 kB/s eta 0:00:03\n",
      "   ------------------------------------- -- 23.3/25.1 MB 986.2 kB/s eta 0:00:02\n",
      "   ------------------------------------- -- 23.6/25.1 MB 990.2 kB/s eta 0:00:02\n",
      "   -------------------------------------- - 23.9/25.1 MB 992.7 kB/s eta 0:00:02\n",
      "   -------------------------------------- - 23.9/25.1 MB 992.7 kB/s eta 0:00:02\n",
      "   -------------------------------------- - 24.1/25.1 MB 991.4 kB/s eta 0:00:01\n",
      "   -------------------------------------- - 24.4/25.1 MB 993.9 kB/s eta 0:00:01\n",
      "   ---------------------------------------  24.6/25.1 MB 995.7 kB/s eta 0:00:01\n",
      "   ---------------------------------------  24.9/25.1 MB 998.2 kB/s eta 0:00:01\n",
      "   ---------------------------------------- 25.1/25.1 MB 997.2 kB/s eta 0:00:00\n",
      "Downloading pydeck-0.9.1-py2.py3-none-any.whl (6.9 MB)\n",
      "   ---------------------------------------- 0.0/6.9 MB ? eta -:--:--\n",
      "   - -------------------------------------- 0.3/6.9 MB ? eta -:--:--\n",
      "   - -------------------------------------- 0.3/6.9 MB ? eta -:--:--\n",
      "   --- ------------------------------------ 0.5/6.9 MB 929.6 kB/s eta 0:00:07\n",
      "   ---- ----------------------------------- 0.8/6.9 MB 882.6 kB/s eta 0:00:07\n",
      "   ------ --------------------------------- 1.0/6.9 MB 967.3 kB/s eta 0:00:07\n",
      "   ------ --------------------------------- 1.0/6.9 MB 967.3 kB/s eta 0:00:07\n",
      "   ------- -------------------------------- 1.3/6.9 MB 870.9 kB/s eta 0:00:07\n",
      "   --------- ------------------------------ 1.6/6.9 MB 931.6 kB/s eta 0:00:06\n",
      "   ---------- ----------------------------- 1.8/6.9 MB 996.1 kB/s eta 0:00:06\n",
      "   ------------- -------------------------- 2.4/6.9 MB 1.1 MB/s eta 0:00:05\n",
      "   ------------- -------------------------- 2.4/6.9 MB 1.1 MB/s eta 0:00:05\n",
      "   --------------- ------------------------ 2.6/6.9 MB 1.1 MB/s eta 0:00:04\n",
      "   ---------------- ----------------------- 2.9/6.9 MB 1.1 MB/s eta 0:00:04\n",
      "   ------------------ --------------------- 3.1/6.9 MB 1.1 MB/s eta 0:00:04\n",
      "   ------------------- -------------------- 3.4/6.9 MB 1.1 MB/s eta 0:00:04\n",
      "   --------------------- ------------------ 3.7/6.9 MB 1.1 MB/s eta 0:00:03\n",
      "   ---------------------- ----------------- 3.9/6.9 MB 1.1 MB/s eta 0:00:03\n",
      "   ------------------------ --------------- 4.2/6.9 MB 1.1 MB/s eta 0:00:03\n",
      "   ------------------------- -------------- 4.5/6.9 MB 1.1 MB/s eta 0:00:03\n",
      "   --------------------------- ------------ 4.7/6.9 MB 1.1 MB/s eta 0:00:02\n",
      "   ---------------------------- ----------- 5.0/6.9 MB 1.1 MB/s eta 0:00:02\n",
      "   ------------------------------ --------- 5.2/6.9 MB 1.1 MB/s eta 0:00:02\n",
      "   ------------------------------- -------- 5.5/6.9 MB 1.1 MB/s eta 0:00:02\n",
      "   ------------------------------- -------- 5.5/6.9 MB 1.1 MB/s eta 0:00:02\n",
      "   --------------------------------- ------ 5.8/6.9 MB 1.1 MB/s eta 0:00:01\n",
      "   ---------------------------------- ----- 6.0/6.9 MB 1.1 MB/s eta 0:00:01\n",
      "   ---------------------------------- ----- 6.0/6.9 MB 1.1 MB/s eta 0:00:01\n",
      "   ------------------------------------ --- 6.3/6.9 MB 1.1 MB/s eta 0:00:01\n",
      "   ------------------------------------ --- 6.3/6.9 MB 1.1 MB/s eta 0:00:01\n",
      "   ------------------------------------- -- 6.6/6.9 MB 1.1 MB/s eta 0:00:01\n",
      "   ---------------------------------------  6.8/6.9 MB 1.0 MB/s eta 0:00:01\n",
      "   ---------------------------------------- 6.9/6.9 MB 1.0 MB/s eta 0:00:00\n",
      "Downloading toml-0.10.2-py2.py3-none-any.whl (16 kB)\n",
      "Downloading watchdog-4.0.2-py3-none-win_amd64.whl (82 kB)\n",
      "Downloading gitdb-4.0.11-py3-none-any.whl (62 kB)\n",
      "Downloading narwhals-1.6.2-py3-none-any.whl (159 kB)\n",
      "Downloading smmap-5.0.1-py3-none-any.whl (24 kB)\n",
      "Installing collected packages: watchdog, toml, smmap, pyarrow, narwhals, click, cachetools, blinker, pydeck, gitdb, gitpython, altair, streamlit\n",
      "Successfully installed altair-5.4.1 blinker-1.8.2 cachetools-5.5.0 click-8.1.7 gitdb-4.0.11 gitpython-3.1.43 narwhals-1.6.2 pyarrow-17.0.0 pydeck-0.9.1 smmap-5.0.1 streamlit-1.38.0 toml-0.10.2 watchdog-4.0.2\n"
     ]
    }
   ],
   "source": [
    "!pip install streamlit"
   ]
  },
  {
   "cell_type": "code",
   "execution_count": 68,
   "metadata": {},
   "outputs": [
    {
     "name": "stdout",
     "output_type": "stream",
     "text": [
      "Overwriting fraud_detection_app.py\n"
     ]
    }
   ],
   "source": [
    "%%writefile fraud_detection_app.py\n",
    "import streamlit as st\n",
    "import pandas as pd\n",
    "import numpy as np\n",
    "from tensorflow.keras.models import load_model\n",
    "\n",
    "# Helper function to encode the image in base64\n",
    "import base64\n",
    "def get_base64_of_image(img_path):\n",
    "    with open(img_path, \"rb\") as f:\n",
    "        data = f.read()\n",
    "    return base64.b64encode(data).decode()\n",
    "\n",
    "# Custom CSS for background image, white text, black input boxes, and blue buttons\n",
    "def set_bg():\n",
    "    st.markdown(\n",
    "        f\"\"\"\n",
    "        <style>\n",
    "        .stApp {{\n",
    "            background-image: url(\"data:image/jpeg;base64,{get_base64_of_image('_d2c01da9-872c-4471-b213-219d0475a3a4.jpeg')}\");\n",
    "            background-size: cover;\n",
    "            color: white;  /* Default text color */\n",
    "        }}\n",
    "\n",
    "        /* Style for title */\n",
    "        .stApp h1 {{\n",
    "            color: white !important;  /* White title text */\n",
    "            text-shadow: 2px 2px 4px rgba(0, 0, 0, 0.6);  /* Add shadow to title */\n",
    "            font-size: 40px;\n",
    "            font-weight: bold;\n",
    "        }}\n",
    "\n",
    "        /* Make input label text white */\n",
    "        .stNumberInput label {{\n",
    "            color: white !important;  /* Set label color (Feature V1, Feature V2, etc.) to white */\n",
    "        }}\n",
    "\n",
    "        /* Set input field background to black and text to white */\n",
    "        .stNumberInput input {{\n",
    "            background-color: black !important;  /* Set the entire input field background to black */\n",
    "            color: white !important;  /* Set the input text color to white */\n",
    "            border: 1px solid white !important;  /* Optional: Add a white border */\n",
    "            border-radius: 8px !important;  /* Add rounded corners to input boxes */\n",
    "        }}\n",
    "\n",
    "        /* Style the buttons */\n",
    "        .stButton>button {{\n",
    "            background-color: #00b4d8;  /* Blue button background */\n",
    "            color: white;  /* Button text color */\n",
    "            border-radius: 8px;  /* Rounded buttons */\n",
    "            border: none;\n",
    "            padding: 10px 20px;\n",
    "            font-size: 16px;\n",
    "        }}\n",
    "\n",
    "        .stButton>button:hover {{\n",
    "            background-color: #0077b6;  /* Darker blue button on hover */\n",
    "            color: white;\n",
    "        }}\n",
    "        </style>\n",
    "        \"\"\",\n",
    "        unsafe_allow_html=True\n",
    "    )\n",
    "\n",
    "# Call the background setter function\n",
    "set_bg()\n",
    "\n",
    "# Load the model\n",
    "model = load_model('fraud_detection_model.h5')\n",
    "\n",
    "# Streamlit App\n",
    "st.title('Credit Card Fraud Detection')\n",
    "\n",
    "# File uploader for the CSV dataset\n",
    "uploaded_file = st.file_uploader(\"Choose a file\", type=\"csv\")\n",
    "\n",
    "if uploaded_file is not None:\n",
    "    # Load the dataset\n",
    "    data = pd.read_csv(uploaded_file)\n",
    "    \n",
    "    # Display the dataset\n",
    "    st.write(\"### Dataset Preview\")\n",
    "    st.dataframe(data.head())  # Show the first few rows\n",
    "    \n",
    "    # Select features for prediction\n",
    "    st.write(\"### Enter Transaction Features\")\n",
    "    features = []\n",
    "    for i in range(1, 29):\n",
    "        feature = st.number_input(f\"Feature V{i}\", step=0.01)\n",
    "        features.append(feature)\n",
    "    \n",
    "    amount = st.number_input(\"Transaction Amount\", step=0.01)\n",
    "    time = st.number_input(\"Transaction Time\", step=0.01)\n",
    "    \n",
    "    # Add the Amount and Time to the feature list\n",
    "    features.append(amount)\n",
    "    features.append(time)\n",
    "\n",
    "    # Reshape the input data to match the model's expected shape (1, 30, 1)\n",
    "    new_transaction = np.array(features).reshape(1, 30, 1)\n",
    "    \n",
    "    # Make a prediction\n",
    "    if st.button('Predict'):\n",
    "        prediction = model.predict(new_transaction)\n",
    "        output = 1 if prediction >= 0.5 else 0  # Fraud or non-fraud\n",
    "        if output == 1:\n",
    "            st.error('⚠️ Fraud Detected!')\n",
    "        else:\n",
    "            st.success('✅ No Fraud Detected.')\n",
    "else:\n",
    "    st.info('Please upload a CSV file to proceed.')\n"
   ]
  }
 ],
 "metadata": {
  "colab": {
   "provenance": []
  },
  "kernelspec": {
   "display_name": "Python 3 (ipykernel)",
   "language": "python",
   "name": "python3"
  },
  "language_info": {
   "codemirror_mode": {
    "name": "ipython",
    "version": 3
   },
   "file_extension": ".py",
   "mimetype": "text/x-python",
   "name": "python",
   "nbconvert_exporter": "python",
   "pygments_lexer": "ipython3",
   "version": "3.12.4"
  }
 },
 "nbformat": 4,
 "nbformat_minor": 4
}
